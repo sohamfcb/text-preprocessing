{
 "cells": [
  {
   "cell_type": "code",
   "execution_count": 1,
   "id": "8af98aa4",
   "metadata": {},
   "outputs": [],
   "source": [
    "import numpy as np\n",
    "import pandas as pd"
   ]
  },
  {
   "cell_type": "code",
   "execution_count": 2,
   "id": "1b0d592b",
   "metadata": {},
   "outputs": [],
   "source": [
    "df=pd.read_csv('IMDB Dataset.csv')"
   ]
  },
  {
   "cell_type": "code",
   "execution_count": 3,
   "id": "b1862f8c",
   "metadata": {},
   "outputs": [
    {
     "data": {
      "text/html": [
       "<div>\n",
       "<style scoped>\n",
       "    .dataframe tbody tr th:only-of-type {\n",
       "        vertical-align: middle;\n",
       "    }\n",
       "\n",
       "    .dataframe tbody tr th {\n",
       "        vertical-align: top;\n",
       "    }\n",
       "\n",
       "    .dataframe thead th {\n",
       "        text-align: right;\n",
       "    }\n",
       "</style>\n",
       "<table border=\"1\" class=\"dataframe\">\n",
       "  <thead>\n",
       "    <tr style=\"text-align: right;\">\n",
       "      <th></th>\n",
       "      <th>review</th>\n",
       "      <th>sentiment</th>\n",
       "    </tr>\n",
       "  </thead>\n",
       "  <tbody>\n",
       "    <tr>\n",
       "      <th>0</th>\n",
       "      <td>One of the other reviewers has mentioned that ...</td>\n",
       "      <td>positive</td>\n",
       "    </tr>\n",
       "    <tr>\n",
       "      <th>1</th>\n",
       "      <td>A wonderful little production. &lt;br /&gt;&lt;br /&gt;The...</td>\n",
       "      <td>positive</td>\n",
       "    </tr>\n",
       "    <tr>\n",
       "      <th>2</th>\n",
       "      <td>I thought this was a wonderful way to spend ti...</td>\n",
       "      <td>positive</td>\n",
       "    </tr>\n",
       "    <tr>\n",
       "      <th>3</th>\n",
       "      <td>Basically there's a family where a little boy ...</td>\n",
       "      <td>negative</td>\n",
       "    </tr>\n",
       "    <tr>\n",
       "      <th>4</th>\n",
       "      <td>Petter Mattei's \"Love in the Time of Money\" is...</td>\n",
       "      <td>positive</td>\n",
       "    </tr>\n",
       "    <tr>\n",
       "      <th>...</th>\n",
       "      <td>...</td>\n",
       "      <td>...</td>\n",
       "    </tr>\n",
       "    <tr>\n",
       "      <th>49995</th>\n",
       "      <td>I thought this movie did a down right good job...</td>\n",
       "      <td>positive</td>\n",
       "    </tr>\n",
       "    <tr>\n",
       "      <th>49996</th>\n",
       "      <td>Bad plot, bad dialogue, bad acting, idiotic di...</td>\n",
       "      <td>negative</td>\n",
       "    </tr>\n",
       "    <tr>\n",
       "      <th>49997</th>\n",
       "      <td>I am a Catholic taught in parochial elementary...</td>\n",
       "      <td>negative</td>\n",
       "    </tr>\n",
       "    <tr>\n",
       "      <th>49998</th>\n",
       "      <td>I'm going to have to disagree with the previou...</td>\n",
       "      <td>negative</td>\n",
       "    </tr>\n",
       "    <tr>\n",
       "      <th>49999</th>\n",
       "      <td>No one expects the Star Trek movies to be high...</td>\n",
       "      <td>negative</td>\n",
       "    </tr>\n",
       "  </tbody>\n",
       "</table>\n",
       "<p>50000 rows × 2 columns</p>\n",
       "</div>"
      ],
      "text/plain": [
       "                                                  review sentiment\n",
       "0      One of the other reviewers has mentioned that ...  positive\n",
       "1      A wonderful little production. <br /><br />The...  positive\n",
       "2      I thought this was a wonderful way to spend ti...  positive\n",
       "3      Basically there's a family where a little boy ...  negative\n",
       "4      Petter Mattei's \"Love in the Time of Money\" is...  positive\n",
       "...                                                  ...       ...\n",
       "49995  I thought this movie did a down right good job...  positive\n",
       "49996  Bad plot, bad dialogue, bad acting, idiotic di...  negative\n",
       "49997  I am a Catholic taught in parochial elementary...  negative\n",
       "49998  I'm going to have to disagree with the previou...  negative\n",
       "49999  No one expects the Star Trek movies to be high...  negative\n",
       "\n",
       "[50000 rows x 2 columns]"
      ]
     },
     "execution_count": 3,
     "metadata": {},
     "output_type": "execute_result"
    }
   ],
   "source": [
    "df"
   ]
  },
  {
   "cell_type": "code",
   "execution_count": 4,
   "id": "25e00c51",
   "metadata": {},
   "outputs": [],
   "source": [
    "df=df.iloc[:10000]"
   ]
  },
  {
   "cell_type": "code",
   "execution_count": 5,
   "id": "d8599b3f",
   "metadata": {},
   "outputs": [
    {
     "data": {
      "text/html": [
       "<div>\n",
       "<style scoped>\n",
       "    .dataframe tbody tr th:only-of-type {\n",
       "        vertical-align: middle;\n",
       "    }\n",
       "\n",
       "    .dataframe tbody tr th {\n",
       "        vertical-align: top;\n",
       "    }\n",
       "\n",
       "    .dataframe thead th {\n",
       "        text-align: right;\n",
       "    }\n",
       "</style>\n",
       "<table border=\"1\" class=\"dataframe\">\n",
       "  <thead>\n",
       "    <tr style=\"text-align: right;\">\n",
       "      <th></th>\n",
       "      <th>review</th>\n",
       "      <th>sentiment</th>\n",
       "    </tr>\n",
       "  </thead>\n",
       "  <tbody>\n",
       "    <tr>\n",
       "      <th>0</th>\n",
       "      <td>One of the other reviewers has mentioned that ...</td>\n",
       "      <td>positive</td>\n",
       "    </tr>\n",
       "    <tr>\n",
       "      <th>1</th>\n",
       "      <td>A wonderful little production. &lt;br /&gt;&lt;br /&gt;The...</td>\n",
       "      <td>positive</td>\n",
       "    </tr>\n",
       "    <tr>\n",
       "      <th>2</th>\n",
       "      <td>I thought this was a wonderful way to spend ti...</td>\n",
       "      <td>positive</td>\n",
       "    </tr>\n",
       "    <tr>\n",
       "      <th>3</th>\n",
       "      <td>Basically there's a family where a little boy ...</td>\n",
       "      <td>negative</td>\n",
       "    </tr>\n",
       "    <tr>\n",
       "      <th>4</th>\n",
       "      <td>Petter Mattei's \"Love in the Time of Money\" is...</td>\n",
       "      <td>positive</td>\n",
       "    </tr>\n",
       "    <tr>\n",
       "      <th>...</th>\n",
       "      <td>...</td>\n",
       "      <td>...</td>\n",
       "    </tr>\n",
       "    <tr>\n",
       "      <th>9995</th>\n",
       "      <td>Fun, entertaining movie about WWII German spy ...</td>\n",
       "      <td>positive</td>\n",
       "    </tr>\n",
       "    <tr>\n",
       "      <th>9996</th>\n",
       "      <td>Give me a break. How can anyone say that this ...</td>\n",
       "      <td>negative</td>\n",
       "    </tr>\n",
       "    <tr>\n",
       "      <th>9997</th>\n",
       "      <td>This movie is a bad movie. But after watching ...</td>\n",
       "      <td>negative</td>\n",
       "    </tr>\n",
       "    <tr>\n",
       "      <th>9998</th>\n",
       "      <td>This is a movie that was probably made to ente...</td>\n",
       "      <td>negative</td>\n",
       "    </tr>\n",
       "    <tr>\n",
       "      <th>9999</th>\n",
       "      <td>Smashing film about film-making. Shows the int...</td>\n",
       "      <td>positive</td>\n",
       "    </tr>\n",
       "  </tbody>\n",
       "</table>\n",
       "<p>10000 rows × 2 columns</p>\n",
       "</div>"
      ],
      "text/plain": [
       "                                                 review sentiment\n",
       "0     One of the other reviewers has mentioned that ...  positive\n",
       "1     A wonderful little production. <br /><br />The...  positive\n",
       "2     I thought this was a wonderful way to spend ti...  positive\n",
       "3     Basically there's a family where a little boy ...  negative\n",
       "4     Petter Mattei's \"Love in the Time of Money\" is...  positive\n",
       "...                                                 ...       ...\n",
       "9995  Fun, entertaining movie about WWII German spy ...  positive\n",
       "9996  Give me a break. How can anyone say that this ...  negative\n",
       "9997  This movie is a bad movie. But after watching ...  negative\n",
       "9998  This is a movie that was probably made to ente...  negative\n",
       "9999  Smashing film about film-making. Shows the int...  positive\n",
       "\n",
       "[10000 rows x 2 columns]"
      ]
     },
     "execution_count": 5,
     "metadata": {},
     "output_type": "execute_result"
    }
   ],
   "source": [
    "df"
   ]
  },
  {
   "cell_type": "code",
   "execution_count": 6,
   "id": "ef3c6a4f",
   "metadata": {},
   "outputs": [
    {
     "data": {
      "text/plain": [
       "positive    5028\n",
       "negative    4972\n",
       "Name: sentiment, dtype: int64"
      ]
     },
     "execution_count": 6,
     "metadata": {},
     "output_type": "execute_result"
    }
   ],
   "source": [
    "df['sentiment'].value_counts()"
   ]
  },
  {
   "cell_type": "code",
   "execution_count": 7,
   "id": "cb6d4ecd",
   "metadata": {},
   "outputs": [
    {
     "data": {
      "text/plain": [
       "'A wonderful little production. <br /><br />The filming technique is very unassuming- very old-time-BBC fashion and gives a comforting, and sometimes discomforting, sense of realism to the entire piece. <br /><br />The actors are extremely well chosen- Michael Sheen not only \"has got all the polari\" but he has all the voices down pat too! You can truly see the seamless editing guided by the references to Williams\\' diary entries, not only is it well worth the watching but it is a terrificly written and performed piece. A masterful production about one of the great master\\'s of comedy and his life. <br /><br />The realism really comes home with the little things: the fantasy of the guard which, rather than use the traditional \\'dream\\' techniques remains solid then disappears. It plays on our knowledge and our senses, particularly with the scenes concerning Orton and Halliwell and the sets (particularly of their flat with Halliwell\\'s murals decorating every surface) are terribly well done.'"
      ]
     },
     "execution_count": 7,
     "metadata": {},
     "output_type": "execute_result"
    }
   ],
   "source": [
    "df['review'][1]"
   ]
  },
  {
   "cell_type": "code",
   "execution_count": 8,
   "id": "f7222a5d",
   "metadata": {},
   "outputs": [
    {
     "data": {
      "text/plain": [
       "17"
      ]
     },
     "execution_count": 8,
     "metadata": {},
     "output_type": "execute_result"
    }
   ],
   "source": [
    "df.duplicated().sum()"
   ]
  },
  {
   "cell_type": "code",
   "execution_count": 9,
   "id": "9540aac3",
   "metadata": {},
   "outputs": [
    {
     "name": "stderr",
     "output_type": "stream",
     "text": [
      "C:\\Users\\Soham\\AppData\\Local\\Temp\\ipykernel_10572\\3006716147.py:1: SettingWithCopyWarning: \n",
      "A value is trying to be set on a copy of a slice from a DataFrame\n",
      "\n",
      "See the caveats in the documentation: https://pandas.pydata.org/pandas-docs/stable/user_guide/indexing.html#returning-a-view-versus-a-copy\n",
      "  df.drop_duplicates(inplace=True)\n"
     ]
    }
   ],
   "source": [
    "df.drop_duplicates(inplace=True)"
   ]
  },
  {
   "cell_type": "code",
   "execution_count": 10,
   "id": "65ec0fde",
   "metadata": {},
   "outputs": [
    {
     "data": {
      "text/html": [
       "<div>\n",
       "<style scoped>\n",
       "    .dataframe tbody tr th:only-of-type {\n",
       "        vertical-align: middle;\n",
       "    }\n",
       "\n",
       "    .dataframe tbody tr th {\n",
       "        vertical-align: top;\n",
       "    }\n",
       "\n",
       "    .dataframe thead th {\n",
       "        text-align: right;\n",
       "    }\n",
       "</style>\n",
       "<table border=\"1\" class=\"dataframe\">\n",
       "  <thead>\n",
       "    <tr style=\"text-align: right;\">\n",
       "      <th></th>\n",
       "      <th>review</th>\n",
       "      <th>sentiment</th>\n",
       "    </tr>\n",
       "  </thead>\n",
       "  <tbody>\n",
       "    <tr>\n",
       "      <th>0</th>\n",
       "      <td>One of the other reviewers has mentioned that ...</td>\n",
       "      <td>positive</td>\n",
       "    </tr>\n",
       "    <tr>\n",
       "      <th>1</th>\n",
       "      <td>A wonderful little production. &lt;br /&gt;&lt;br /&gt;The...</td>\n",
       "      <td>positive</td>\n",
       "    </tr>\n",
       "    <tr>\n",
       "      <th>2</th>\n",
       "      <td>I thought this was a wonderful way to spend ti...</td>\n",
       "      <td>positive</td>\n",
       "    </tr>\n",
       "    <tr>\n",
       "      <th>3</th>\n",
       "      <td>Basically there's a family where a little boy ...</td>\n",
       "      <td>negative</td>\n",
       "    </tr>\n",
       "    <tr>\n",
       "      <th>4</th>\n",
       "      <td>Petter Mattei's \"Love in the Time of Money\" is...</td>\n",
       "      <td>positive</td>\n",
       "    </tr>\n",
       "    <tr>\n",
       "      <th>...</th>\n",
       "      <td>...</td>\n",
       "      <td>...</td>\n",
       "    </tr>\n",
       "    <tr>\n",
       "      <th>9995</th>\n",
       "      <td>Fun, entertaining movie about WWII German spy ...</td>\n",
       "      <td>positive</td>\n",
       "    </tr>\n",
       "    <tr>\n",
       "      <th>9996</th>\n",
       "      <td>Give me a break. How can anyone say that this ...</td>\n",
       "      <td>negative</td>\n",
       "    </tr>\n",
       "    <tr>\n",
       "      <th>9997</th>\n",
       "      <td>This movie is a bad movie. But after watching ...</td>\n",
       "      <td>negative</td>\n",
       "    </tr>\n",
       "    <tr>\n",
       "      <th>9998</th>\n",
       "      <td>This is a movie that was probably made to ente...</td>\n",
       "      <td>negative</td>\n",
       "    </tr>\n",
       "    <tr>\n",
       "      <th>9999</th>\n",
       "      <td>Smashing film about film-making. Shows the int...</td>\n",
       "      <td>positive</td>\n",
       "    </tr>\n",
       "  </tbody>\n",
       "</table>\n",
       "<p>9983 rows × 2 columns</p>\n",
       "</div>"
      ],
      "text/plain": [
       "                                                 review sentiment\n",
       "0     One of the other reviewers has mentioned that ...  positive\n",
       "1     A wonderful little production. <br /><br />The...  positive\n",
       "2     I thought this was a wonderful way to spend ti...  positive\n",
       "3     Basically there's a family where a little boy ...  negative\n",
       "4     Petter Mattei's \"Love in the Time of Money\" is...  positive\n",
       "...                                                 ...       ...\n",
       "9995  Fun, entertaining movie about WWII German spy ...  positive\n",
       "9996  Give me a break. How can anyone say that this ...  negative\n",
       "9997  This movie is a bad movie. But after watching ...  negative\n",
       "9998  This is a movie that was probably made to ente...  negative\n",
       "9999  Smashing film about film-making. Shows the int...  positive\n",
       "\n",
       "[9983 rows x 2 columns]"
      ]
     },
     "execution_count": 10,
     "metadata": {},
     "output_type": "execute_result"
    }
   ],
   "source": [
    "df"
   ]
  },
  {
   "cell_type": "code",
   "execution_count": 11,
   "id": "94d7c04b",
   "metadata": {},
   "outputs": [
    {
     "data": {
      "text/plain": [
       "0"
      ]
     },
     "execution_count": 11,
     "metadata": {},
     "output_type": "execute_result"
    }
   ],
   "source": [
    "df.duplicated().sum()"
   ]
  },
  {
   "cell_type": "code",
   "execution_count": 12,
   "id": "b71ef56d",
   "metadata": {},
   "outputs": [],
   "source": [
    "import re\n",
    "def remove_tags(text):\n",
    "    cleaned_text=re.sub(re.compile('<.*?>'),'',text)\n",
    "    return cleaned_text"
   ]
  },
  {
   "cell_type": "code",
   "execution_count": 13,
   "id": "f60e23f4",
   "metadata": {},
   "outputs": [
    {
     "name": "stderr",
     "output_type": "stream",
     "text": [
      "C:\\Users\\Soham\\AppData\\Local\\Temp\\ipykernel_10572\\2928534252.py:1: SettingWithCopyWarning: \n",
      "A value is trying to be set on a copy of a slice from a DataFrame.\n",
      "Try using .loc[row_indexer,col_indexer] = value instead\n",
      "\n",
      "See the caveats in the documentation: https://pandas.pydata.org/pandas-docs/stable/user_guide/indexing.html#returning-a-view-versus-a-copy\n",
      "  df['review']=df['review'].apply(remove_tags)\n"
     ]
    }
   ],
   "source": [
    "df['review']=df['review'].apply(remove_tags)"
   ]
  },
  {
   "cell_type": "code",
   "execution_count": 14,
   "id": "649454fd",
   "metadata": {
    "scrolled": false
   },
   "outputs": [
    {
     "data": {
      "text/html": [
       "<div>\n",
       "<style scoped>\n",
       "    .dataframe tbody tr th:only-of-type {\n",
       "        vertical-align: middle;\n",
       "    }\n",
       "\n",
       "    .dataframe tbody tr th {\n",
       "        vertical-align: top;\n",
       "    }\n",
       "\n",
       "    .dataframe thead th {\n",
       "        text-align: right;\n",
       "    }\n",
       "</style>\n",
       "<table border=\"1\" class=\"dataframe\">\n",
       "  <thead>\n",
       "    <tr style=\"text-align: right;\">\n",
       "      <th></th>\n",
       "      <th>review</th>\n",
       "      <th>sentiment</th>\n",
       "    </tr>\n",
       "  </thead>\n",
       "  <tbody>\n",
       "    <tr>\n",
       "      <th>0</th>\n",
       "      <td>One of the other reviewers has mentioned that ...</td>\n",
       "      <td>positive</td>\n",
       "    </tr>\n",
       "    <tr>\n",
       "      <th>1</th>\n",
       "      <td>A wonderful little production. The filming tec...</td>\n",
       "      <td>positive</td>\n",
       "    </tr>\n",
       "    <tr>\n",
       "      <th>2</th>\n",
       "      <td>I thought this was a wonderful way to spend ti...</td>\n",
       "      <td>positive</td>\n",
       "    </tr>\n",
       "    <tr>\n",
       "      <th>3</th>\n",
       "      <td>Basically there's a family where a little boy ...</td>\n",
       "      <td>negative</td>\n",
       "    </tr>\n",
       "    <tr>\n",
       "      <th>4</th>\n",
       "      <td>Petter Mattei's \"Love in the Time of Money\" is...</td>\n",
       "      <td>positive</td>\n",
       "    </tr>\n",
       "    <tr>\n",
       "      <th>...</th>\n",
       "      <td>...</td>\n",
       "      <td>...</td>\n",
       "    </tr>\n",
       "    <tr>\n",
       "      <th>9995</th>\n",
       "      <td>Fun, entertaining movie about WWII German spy ...</td>\n",
       "      <td>positive</td>\n",
       "    </tr>\n",
       "    <tr>\n",
       "      <th>9996</th>\n",
       "      <td>Give me a break. How can anyone say that this ...</td>\n",
       "      <td>negative</td>\n",
       "    </tr>\n",
       "    <tr>\n",
       "      <th>9997</th>\n",
       "      <td>This movie is a bad movie. But after watching ...</td>\n",
       "      <td>negative</td>\n",
       "    </tr>\n",
       "    <tr>\n",
       "      <th>9998</th>\n",
       "      <td>This is a movie that was probably made to ente...</td>\n",
       "      <td>negative</td>\n",
       "    </tr>\n",
       "    <tr>\n",
       "      <th>9999</th>\n",
       "      <td>Smashing film about film-making. Shows the int...</td>\n",
       "      <td>positive</td>\n",
       "    </tr>\n",
       "  </tbody>\n",
       "</table>\n",
       "<p>9983 rows × 2 columns</p>\n",
       "</div>"
      ],
      "text/plain": [
       "                                                 review sentiment\n",
       "0     One of the other reviewers has mentioned that ...  positive\n",
       "1     A wonderful little production. The filming tec...  positive\n",
       "2     I thought this was a wonderful way to spend ti...  positive\n",
       "3     Basically there's a family where a little boy ...  negative\n",
       "4     Petter Mattei's \"Love in the Time of Money\" is...  positive\n",
       "...                                                 ...       ...\n",
       "9995  Fun, entertaining movie about WWII German spy ...  positive\n",
       "9996  Give me a break. How can anyone say that this ...  negative\n",
       "9997  This movie is a bad movie. But after watching ...  negative\n",
       "9998  This is a movie that was probably made to ente...  negative\n",
       "9999  Smashing film about film-making. Shows the int...  positive\n",
       "\n",
       "[9983 rows x 2 columns]"
      ]
     },
     "execution_count": 14,
     "metadata": {},
     "output_type": "execute_result"
    }
   ],
   "source": [
    "df"
   ]
  },
  {
   "cell_type": "code",
   "execution_count": 15,
   "id": "1e6b34df",
   "metadata": {},
   "outputs": [
    {
     "data": {
      "text/plain": [
       "'A wonderful little production. The filming technique is very unassuming- very old-time-BBC fashion and gives a comforting, and sometimes discomforting, sense of realism to the entire piece. The actors are extremely well chosen- Michael Sheen not only \"has got all the polari\" but he has all the voices down pat too! You can truly see the seamless editing guided by the references to Williams\\' diary entries, not only is it well worth the watching but it is a terrificly written and performed piece. A masterful production about one of the great master\\'s of comedy and his life. The realism really comes home with the little things: the fantasy of the guard which, rather than use the traditional \\'dream\\' techniques remains solid then disappears. It plays on our knowledge and our senses, particularly with the scenes concerning Orton and Halliwell and the sets (particularly of their flat with Halliwell\\'s murals decorating every surface) are terribly well done.'"
      ]
     },
     "execution_count": 15,
     "metadata": {},
     "output_type": "execute_result"
    }
   ],
   "source": [
    "df['review'][1]"
   ]
  },
  {
   "cell_type": "code",
   "execution_count": 16,
   "id": "f33ba295",
   "metadata": {},
   "outputs": [
    {
     "name": "stderr",
     "output_type": "stream",
     "text": [
      "C:\\Users\\Soham\\AppData\\Local\\Temp\\ipykernel_10572\\2697927567.py:1: SettingWithCopyWarning: \n",
      "A value is trying to be set on a copy of a slice from a DataFrame.\n",
      "Try using .loc[row_indexer,col_indexer] = value instead\n",
      "\n",
      "See the caveats in the documentation: https://pandas.pydata.org/pandas-docs/stable/user_guide/indexing.html#returning-a-view-versus-a-copy\n",
      "  df['review']=df['review'].apply(lambda x:x.lower())\n"
     ]
    }
   ],
   "source": [
    "df['review']=df['review'].apply(lambda x:x.lower())"
   ]
  },
  {
   "cell_type": "code",
   "execution_count": 17,
   "id": "2d6eee91",
   "metadata": {},
   "outputs": [
    {
     "data": {
      "text/html": [
       "<div>\n",
       "<style scoped>\n",
       "    .dataframe tbody tr th:only-of-type {\n",
       "        vertical-align: middle;\n",
       "    }\n",
       "\n",
       "    .dataframe tbody tr th {\n",
       "        vertical-align: top;\n",
       "    }\n",
       "\n",
       "    .dataframe thead th {\n",
       "        text-align: right;\n",
       "    }\n",
       "</style>\n",
       "<table border=\"1\" class=\"dataframe\">\n",
       "  <thead>\n",
       "    <tr style=\"text-align: right;\">\n",
       "      <th></th>\n",
       "      <th>review</th>\n",
       "      <th>sentiment</th>\n",
       "    </tr>\n",
       "  </thead>\n",
       "  <tbody>\n",
       "    <tr>\n",
       "      <th>0</th>\n",
       "      <td>one of the other reviewers has mentioned that ...</td>\n",
       "      <td>positive</td>\n",
       "    </tr>\n",
       "    <tr>\n",
       "      <th>1</th>\n",
       "      <td>a wonderful little production. the filming tec...</td>\n",
       "      <td>positive</td>\n",
       "    </tr>\n",
       "    <tr>\n",
       "      <th>2</th>\n",
       "      <td>i thought this was a wonderful way to spend ti...</td>\n",
       "      <td>positive</td>\n",
       "    </tr>\n",
       "    <tr>\n",
       "      <th>3</th>\n",
       "      <td>basically there's a family where a little boy ...</td>\n",
       "      <td>negative</td>\n",
       "    </tr>\n",
       "    <tr>\n",
       "      <th>4</th>\n",
       "      <td>petter mattei's \"love in the time of money\" is...</td>\n",
       "      <td>positive</td>\n",
       "    </tr>\n",
       "    <tr>\n",
       "      <th>...</th>\n",
       "      <td>...</td>\n",
       "      <td>...</td>\n",
       "    </tr>\n",
       "    <tr>\n",
       "      <th>9995</th>\n",
       "      <td>fun, entertaining movie about wwii german spy ...</td>\n",
       "      <td>positive</td>\n",
       "    </tr>\n",
       "    <tr>\n",
       "      <th>9996</th>\n",
       "      <td>give me a break. how can anyone say that this ...</td>\n",
       "      <td>negative</td>\n",
       "    </tr>\n",
       "    <tr>\n",
       "      <th>9997</th>\n",
       "      <td>this movie is a bad movie. but after watching ...</td>\n",
       "      <td>negative</td>\n",
       "    </tr>\n",
       "    <tr>\n",
       "      <th>9998</th>\n",
       "      <td>this is a movie that was probably made to ente...</td>\n",
       "      <td>negative</td>\n",
       "    </tr>\n",
       "    <tr>\n",
       "      <th>9999</th>\n",
       "      <td>smashing film about film-making. shows the int...</td>\n",
       "      <td>positive</td>\n",
       "    </tr>\n",
       "  </tbody>\n",
       "</table>\n",
       "<p>9983 rows × 2 columns</p>\n",
       "</div>"
      ],
      "text/plain": [
       "                                                 review sentiment\n",
       "0     one of the other reviewers has mentioned that ...  positive\n",
       "1     a wonderful little production. the filming tec...  positive\n",
       "2     i thought this was a wonderful way to spend ti...  positive\n",
       "3     basically there's a family where a little boy ...  negative\n",
       "4     petter mattei's \"love in the time of money\" is...  positive\n",
       "...                                                 ...       ...\n",
       "9995  fun, entertaining movie about wwii german spy ...  positive\n",
       "9996  give me a break. how can anyone say that this ...  negative\n",
       "9997  this movie is a bad movie. but after watching ...  negative\n",
       "9998  this is a movie that was probably made to ente...  negative\n",
       "9999  smashing film about film-making. shows the int...  positive\n",
       "\n",
       "[9983 rows x 2 columns]"
      ]
     },
     "execution_count": 17,
     "metadata": {},
     "output_type": "execute_result"
    }
   ],
   "source": [
    "df"
   ]
  },
  {
   "cell_type": "code",
   "execution_count": 18,
   "id": "b7139fb6",
   "metadata": {},
   "outputs": [],
   "source": [
    "from nltk.corpus import stopwords"
   ]
  },
  {
   "cell_type": "code",
   "execution_count": 19,
   "id": "f1c83180",
   "metadata": {},
   "outputs": [
    {
     "data": {
      "text/plain": [
       "['i',\n",
       " 'me',\n",
       " 'my',\n",
       " 'myself',\n",
       " 'we',\n",
       " 'our',\n",
       " 'ours',\n",
       " 'ourselves',\n",
       " 'you',\n",
       " \"you're\",\n",
       " \"you've\",\n",
       " \"you'll\",\n",
       " \"you'd\",\n",
       " 'your',\n",
       " 'yours',\n",
       " 'yourself',\n",
       " 'yourselves',\n",
       " 'he',\n",
       " 'him',\n",
       " 'his',\n",
       " 'himself',\n",
       " 'she',\n",
       " \"she's\",\n",
       " 'her',\n",
       " 'hers',\n",
       " 'herself',\n",
       " 'it',\n",
       " \"it's\",\n",
       " 'its',\n",
       " 'itself',\n",
       " 'they',\n",
       " 'them',\n",
       " 'their',\n",
       " 'theirs',\n",
       " 'themselves',\n",
       " 'what',\n",
       " 'which',\n",
       " 'who',\n",
       " 'whom',\n",
       " 'this',\n",
       " 'that',\n",
       " \"that'll\",\n",
       " 'these',\n",
       " 'those',\n",
       " 'am',\n",
       " 'is',\n",
       " 'are',\n",
       " 'was',\n",
       " 'were',\n",
       " 'be',\n",
       " 'been',\n",
       " 'being',\n",
       " 'have',\n",
       " 'has',\n",
       " 'had',\n",
       " 'having',\n",
       " 'do',\n",
       " 'does',\n",
       " 'did',\n",
       " 'doing',\n",
       " 'a',\n",
       " 'an',\n",
       " 'the',\n",
       " 'and',\n",
       " 'but',\n",
       " 'if',\n",
       " 'or',\n",
       " 'because',\n",
       " 'as',\n",
       " 'until',\n",
       " 'while',\n",
       " 'of',\n",
       " 'at',\n",
       " 'by',\n",
       " 'for',\n",
       " 'with',\n",
       " 'about',\n",
       " 'against',\n",
       " 'between',\n",
       " 'into',\n",
       " 'through',\n",
       " 'during',\n",
       " 'before',\n",
       " 'after',\n",
       " 'above',\n",
       " 'below',\n",
       " 'to',\n",
       " 'from',\n",
       " 'up',\n",
       " 'down',\n",
       " 'in',\n",
       " 'out',\n",
       " 'on',\n",
       " 'off',\n",
       " 'over',\n",
       " 'under',\n",
       " 'again',\n",
       " 'further',\n",
       " 'then',\n",
       " 'once',\n",
       " 'here',\n",
       " 'there',\n",
       " 'when',\n",
       " 'where',\n",
       " 'why',\n",
       " 'how',\n",
       " 'all',\n",
       " 'any',\n",
       " 'both',\n",
       " 'each',\n",
       " 'few',\n",
       " 'more',\n",
       " 'most',\n",
       " 'other',\n",
       " 'some',\n",
       " 'such',\n",
       " 'no',\n",
       " 'nor',\n",
       " 'not',\n",
       " 'only',\n",
       " 'own',\n",
       " 'same',\n",
       " 'so',\n",
       " 'than',\n",
       " 'too',\n",
       " 'very',\n",
       " 's',\n",
       " 't',\n",
       " 'can',\n",
       " 'will',\n",
       " 'just',\n",
       " 'don',\n",
       " \"don't\",\n",
       " 'should',\n",
       " \"should've\",\n",
       " 'now',\n",
       " 'd',\n",
       " 'll',\n",
       " 'm',\n",
       " 'o',\n",
       " 're',\n",
       " 've',\n",
       " 'y',\n",
       " 'ain',\n",
       " 'aren',\n",
       " \"aren't\",\n",
       " 'couldn',\n",
       " \"couldn't\",\n",
       " 'didn',\n",
       " \"didn't\",\n",
       " 'doesn',\n",
       " \"doesn't\",\n",
       " 'hadn',\n",
       " \"hadn't\",\n",
       " 'hasn',\n",
       " \"hasn't\",\n",
       " 'haven',\n",
       " \"haven't\",\n",
       " 'isn',\n",
       " \"isn't\",\n",
       " 'ma',\n",
       " 'mightn',\n",
       " \"mightn't\",\n",
       " 'mustn',\n",
       " \"mustn't\",\n",
       " 'needn',\n",
       " \"needn't\",\n",
       " 'shan',\n",
       " \"shan't\",\n",
       " 'shouldn',\n",
       " \"shouldn't\",\n",
       " 'wasn',\n",
       " \"wasn't\",\n",
       " 'weren',\n",
       " \"weren't\",\n",
       " 'won',\n",
       " \"won't\",\n",
       " 'wouldn',\n",
       " \"wouldn't\"]"
      ]
     },
     "execution_count": 19,
     "metadata": {},
     "output_type": "execute_result"
    }
   ],
   "source": [
    "stopwords.words('english')"
   ]
  },
  {
   "cell_type": "code",
   "execution_count": 20,
   "id": "5387d34b",
   "metadata": {},
   "outputs": [
    {
     "data": {
      "text/plain": [
       "179"
      ]
     },
     "execution_count": 20,
     "metadata": {},
     "output_type": "execute_result"
    }
   ],
   "source": [
    "len(stopwords.words('english'))"
   ]
  },
  {
   "cell_type": "code",
   "execution_count": 21,
   "id": "555b4e24",
   "metadata": {},
   "outputs": [
    {
     "name": "stderr",
     "output_type": "stream",
     "text": [
      "C:\\Users\\Soham\\AppData\\Local\\Temp\\ipykernel_10572\\2475415355.py:2: SettingWithCopyWarning: \n",
      "A value is trying to be set on a copy of a slice from a DataFrame.\n",
      "Try using .loc[row_indexer,col_indexer] = value instead\n",
      "\n",
      "See the caveats in the documentation: https://pandas.pydata.org/pandas-docs/stable/user_guide/indexing.html#returning-a-view-versus-a-copy\n",
      "  df['review']=df['review'].apply(lambda x:[item for item in x.split() if item not in sw_list]).apply(lambda x:' '.join(x))\n"
     ]
    }
   ],
   "source": [
    "sw_list=stopwords.words('english')\n",
    "df['review']=df['review'].apply(lambda x:[item for item in x.split() if item not in sw_list]).apply(lambda x:' '.join(x))"
   ]
  },
  {
   "cell_type": "code",
   "execution_count": 22,
   "id": "1197efe3",
   "metadata": {},
   "outputs": [
    {
     "data": {
      "text/plain": [
       "'wonderful little production. filming technique unassuming- old-time-bbc fashion gives comforting, sometimes discomforting, sense realism entire piece. actors extremely well chosen- michael sheen \"has got polari\" voices pat too! truly see seamless editing guided references williams\\' diary entries, well worth watching terrificly written performed piece. masterful production one great master\\'s comedy life. realism really comes home little things: fantasy guard which, rather use traditional \\'dream\\' techniques remains solid disappears. plays knowledge senses, particularly scenes concerning orton halliwell sets (particularly flat halliwell\\'s murals decorating every surface) terribly well done.'"
      ]
     },
     "execution_count": 22,
     "metadata": {},
     "output_type": "execute_result"
    }
   ],
   "source": [
    "df['review'][1]"
   ]
  },
  {
   "cell_type": "code",
   "execution_count": 23,
   "id": "3fd138a5",
   "metadata": {},
   "outputs": [],
   "source": [
    "x=df['review']\n",
    "y=df['sentiment']"
   ]
  },
  {
   "cell_type": "code",
   "execution_count": 24,
   "id": "1f5f0450",
   "metadata": {},
   "outputs": [
    {
     "data": {
      "text/plain": [
       "0       one reviewers mentioned watching 1 oz episode ...\n",
       "1       wonderful little production. filming technique...\n",
       "2       thought wonderful way spend time hot summer we...\n",
       "3       basically there's family little boy (jake) thi...\n",
       "4       petter mattei's \"love time money\" visually stu...\n",
       "                              ...                        \n",
       "9995    fun, entertaining movie wwii german spy (julie...\n",
       "9996    give break. anyone say \"good hockey movie\"? kn...\n",
       "9997    movie bad movie. watching endless series bad h...\n",
       "9998    movie probably made entertain middle school, e...\n",
       "9999    smashing film film-making. shows intense stran...\n",
       "Name: review, Length: 9983, dtype: object"
      ]
     },
     "execution_count": 24,
     "metadata": {},
     "output_type": "execute_result"
    }
   ],
   "source": [
    "x"
   ]
  },
  {
   "cell_type": "code",
   "execution_count": 25,
   "id": "a9778c0d",
   "metadata": {},
   "outputs": [
    {
     "data": {
      "text/plain": [
       "0       positive\n",
       "1       positive\n",
       "2       positive\n",
       "3       negative\n",
       "4       positive\n",
       "          ...   \n",
       "9995    positive\n",
       "9996    negative\n",
       "9997    negative\n",
       "9998    negative\n",
       "9999    positive\n",
       "Name: sentiment, Length: 9983, dtype: object"
      ]
     },
     "execution_count": 25,
     "metadata": {},
     "output_type": "execute_result"
    }
   ],
   "source": [
    "y"
   ]
  },
  {
   "cell_type": "code",
   "execution_count": 26,
   "id": "82b8aa21",
   "metadata": {},
   "outputs": [],
   "source": [
    "from sklearn.preprocessing import LabelEncoder\n",
    "encoder=LabelEncoder()\n",
    "y=encoder.fit_transform(y)"
   ]
  },
  {
   "cell_type": "code",
   "execution_count": 27,
   "id": "f7b56796",
   "metadata": {},
   "outputs": [
    {
     "data": {
      "text/plain": [
       "(9983,)"
      ]
     },
     "execution_count": 27,
     "metadata": {},
     "output_type": "execute_result"
    }
   ],
   "source": [
    "y.shape"
   ]
  },
  {
   "cell_type": "code",
   "execution_count": 28,
   "id": "66e8e406",
   "metadata": {},
   "outputs": [],
   "source": [
    "from sklearn.model_selection import train_test_split"
   ]
  },
  {
   "cell_type": "code",
   "execution_count": 29,
   "id": "88a9bc06",
   "metadata": {},
   "outputs": [],
   "source": [
    "X_train,X_test,Y_train,Y_test=train_test_split(x,y,test_size=0.2,random_state=1)"
   ]
  },
  {
   "cell_type": "code",
   "execution_count": 30,
   "id": "aba03f90",
   "metadata": {},
   "outputs": [
    {
     "data": {
      "text/plain": [
       "6713    i've waiting superhero movie like long time. \"...\n",
       "1178    movie excellent acted, excellent directed over...\n",
       "4707    movie makes want throw every time see it. take...\n",
       "6772    first saw movie elementary school, back 1960s....\n",
       "7461    show made persons iq lower 80. jokes show lame...\n",
       "                              ...                        \n",
       "2895    excellent episode movie ala pulp fiction. 7 da...\n",
       "7823    first off, give idea taste movies...2007 comed...\n",
       "905     well begin story?? went movie tonight friends ...\n",
       "5195    lot horror fans seem love scarecrows, popular ...\n",
       "235     reese witherspoon first outing big screen memo...\n",
       "Name: review, Length: 7986, dtype: object"
      ]
     },
     "execution_count": 30,
     "metadata": {},
     "output_type": "execute_result"
    }
   ],
   "source": [
    "X_train"
   ]
  },
  {
   "cell_type": "code",
   "execution_count": 31,
   "id": "f627de03",
   "metadata": {},
   "outputs": [
    {
     "data": {
      "text/plain": [
       "(7986,)"
      ]
     },
     "execution_count": 31,
     "metadata": {},
     "output_type": "execute_result"
    }
   ],
   "source": [
    "X_train.shape"
   ]
  },
  {
   "cell_type": "code",
   "execution_count": 32,
   "id": "eda6c541",
   "metadata": {},
   "outputs": [
    {
     "data": {
      "text/plain": [
       "(1997,)"
      ]
     },
     "execution_count": 32,
     "metadata": {},
     "output_type": "execute_result"
    }
   ],
   "source": [
    "X_test.shape"
   ]
  },
  {
   "cell_type": "markdown",
   "id": "56ec6c33",
   "metadata": {},
   "source": [
    "# Using Bag of Words"
   ]
  },
  {
   "cell_type": "code",
   "execution_count": 33,
   "id": "e2f5996f",
   "metadata": {},
   "outputs": [],
   "source": [
    "from sklearn.feature_extraction.text import CountVectorizer\n",
    "\n",
    "cv = CountVectorizer()\n",
    "X_train_bow = cv.fit_transform(X_train).toarray()\n",
    "X_test_bow = cv.transform(X_test).toarray()"
   ]
  },
  {
   "cell_type": "code",
   "execution_count": 34,
   "id": "f421594e",
   "metadata": {},
   "outputs": [
    {
     "data": {
      "text/plain": [
       "array([[0, 0, 0, ..., 0, 0, 0],\n",
       "       [0, 0, 0, ..., 0, 0, 0],\n",
       "       [0, 0, 0, ..., 0, 0, 0],\n",
       "       ...,\n",
       "       [0, 0, 0, ..., 0, 0, 0],\n",
       "       [0, 0, 0, ..., 0, 0, 0],\n",
       "       [0, 0, 0, ..., 0, 0, 0]], dtype=int64)"
      ]
     },
     "execution_count": 34,
     "metadata": {},
     "output_type": "execute_result"
    }
   ],
   "source": [
    "X_train_bow"
   ]
  },
  {
   "cell_type": "code",
   "execution_count": 35,
   "id": "431170cf",
   "metadata": {},
   "outputs": [
    {
     "data": {
      "text/plain": [
       "(7986, 48282)"
      ]
     },
     "execution_count": 35,
     "metadata": {},
     "output_type": "execute_result"
    }
   ],
   "source": [
    "X_train_bow.shape"
   ]
  },
  {
   "cell_type": "code",
   "execution_count": 36,
   "id": "e5b2d7ed",
   "metadata": {},
   "outputs": [],
   "source": [
    "from sklearn.naive_bayes import GaussianNB"
   ]
  },
  {
   "cell_type": "code",
   "execution_count": 37,
   "id": "c77f7a90",
   "metadata": {},
   "outputs": [
    {
     "data": {
      "text/html": [
       "<style>#sk-container-id-1 {color: black;background-color: white;}#sk-container-id-1 pre{padding: 0;}#sk-container-id-1 div.sk-toggleable {background-color: white;}#sk-container-id-1 label.sk-toggleable__label {cursor: pointer;display: block;width: 100%;margin-bottom: 0;padding: 0.3em;box-sizing: border-box;text-align: center;}#sk-container-id-1 label.sk-toggleable__label-arrow:before {content: \"▸\";float: left;margin-right: 0.25em;color: #696969;}#sk-container-id-1 label.sk-toggleable__label-arrow:hover:before {color: black;}#sk-container-id-1 div.sk-estimator:hover label.sk-toggleable__label-arrow:before {color: black;}#sk-container-id-1 div.sk-toggleable__content {max-height: 0;max-width: 0;overflow: hidden;text-align: left;background-color: #f0f8ff;}#sk-container-id-1 div.sk-toggleable__content pre {margin: 0.2em;color: black;border-radius: 0.25em;background-color: #f0f8ff;}#sk-container-id-1 input.sk-toggleable__control:checked~div.sk-toggleable__content {max-height: 200px;max-width: 100%;overflow: auto;}#sk-container-id-1 input.sk-toggleable__control:checked~label.sk-toggleable__label-arrow:before {content: \"▾\";}#sk-container-id-1 div.sk-estimator input.sk-toggleable__control:checked~label.sk-toggleable__label {background-color: #d4ebff;}#sk-container-id-1 div.sk-label input.sk-toggleable__control:checked~label.sk-toggleable__label {background-color: #d4ebff;}#sk-container-id-1 input.sk-hidden--visually {border: 0;clip: rect(1px 1px 1px 1px);clip: rect(1px, 1px, 1px, 1px);height: 1px;margin: -1px;overflow: hidden;padding: 0;position: absolute;width: 1px;}#sk-container-id-1 div.sk-estimator {font-family: monospace;background-color: #f0f8ff;border: 1px dotted black;border-radius: 0.25em;box-sizing: border-box;margin-bottom: 0.5em;}#sk-container-id-1 div.sk-estimator:hover {background-color: #d4ebff;}#sk-container-id-1 div.sk-parallel-item::after {content: \"\";width: 100%;border-bottom: 1px solid gray;flex-grow: 1;}#sk-container-id-1 div.sk-label:hover label.sk-toggleable__label {background-color: #d4ebff;}#sk-container-id-1 div.sk-serial::before {content: \"\";position: absolute;border-left: 1px solid gray;box-sizing: border-box;top: 0;bottom: 0;left: 50%;z-index: 0;}#sk-container-id-1 div.sk-serial {display: flex;flex-direction: column;align-items: center;background-color: white;padding-right: 0.2em;padding-left: 0.2em;position: relative;}#sk-container-id-1 div.sk-item {position: relative;z-index: 1;}#sk-container-id-1 div.sk-parallel {display: flex;align-items: stretch;justify-content: center;background-color: white;position: relative;}#sk-container-id-1 div.sk-item::before, #sk-container-id-1 div.sk-parallel-item::before {content: \"\";position: absolute;border-left: 1px solid gray;box-sizing: border-box;top: 0;bottom: 0;left: 50%;z-index: -1;}#sk-container-id-1 div.sk-parallel-item {display: flex;flex-direction: column;z-index: 1;position: relative;background-color: white;}#sk-container-id-1 div.sk-parallel-item:first-child::after {align-self: flex-end;width: 50%;}#sk-container-id-1 div.sk-parallel-item:last-child::after {align-self: flex-start;width: 50%;}#sk-container-id-1 div.sk-parallel-item:only-child::after {width: 0;}#sk-container-id-1 div.sk-dashed-wrapped {border: 1px dashed gray;margin: 0 0.4em 0.5em 0.4em;box-sizing: border-box;padding-bottom: 0.4em;background-color: white;}#sk-container-id-1 div.sk-label label {font-family: monospace;font-weight: bold;display: inline-block;line-height: 1.2em;}#sk-container-id-1 div.sk-label-container {text-align: center;}#sk-container-id-1 div.sk-container {/* jupyter's `normalize.less` sets `[hidden] { display: none; }` but bootstrap.min.css set `[hidden] { display: none !important; }` so we also need the `!important` here to be able to override the default hidden behavior on the sphinx rendered scikit-learn.org. See: https://github.com/scikit-learn/scikit-learn/issues/21755 */display: inline-block !important;position: relative;}#sk-container-id-1 div.sk-text-repr-fallback {display: none;}</style><div id=\"sk-container-id-1\" class=\"sk-top-container\"><div class=\"sk-text-repr-fallback\"><pre>GaussianNB()</pre><b>In a Jupyter environment, please rerun this cell to show the HTML representation or trust the notebook. <br />On GitHub, the HTML representation is unable to render, please try loading this page with nbviewer.org.</b></div><div class=\"sk-container\" hidden><div class=\"sk-item\"><div class=\"sk-estimator sk-toggleable\"><input class=\"sk-toggleable__control sk-hidden--visually\" id=\"sk-estimator-id-1\" type=\"checkbox\" checked><label for=\"sk-estimator-id-1\" class=\"sk-toggleable__label sk-toggleable__label-arrow\">GaussianNB</label><div class=\"sk-toggleable__content\"><pre>GaussianNB()</pre></div></div></div></div></div>"
      ],
      "text/plain": [
       "GaussianNB()"
      ]
     },
     "execution_count": 37,
     "metadata": {},
     "output_type": "execute_result"
    }
   ],
   "source": [
    "gnb=GaussianNB()\n",
    "\n",
    "gnb.fit(X_train_bow,Y_train)"
   ]
  },
  {
   "cell_type": "code",
   "execution_count": 38,
   "id": "b291afe8",
   "metadata": {},
   "outputs": [],
   "source": [
    "y_pred=gnb.predict(X_test_bow)"
   ]
  },
  {
   "cell_type": "code",
   "execution_count": 39,
   "id": "e91f02cd",
   "metadata": {},
   "outputs": [],
   "source": [
    "from sklearn.metrics import accuracy_score,classification_report,confusion_matrix"
   ]
  },
  {
   "cell_type": "code",
   "execution_count": 40,
   "id": "5e476305",
   "metadata": {},
   "outputs": [
    {
     "data": {
      "text/plain": [
       "0.6324486730095142"
      ]
     },
     "execution_count": 40,
     "metadata": {},
     "output_type": "execute_result"
    }
   ],
   "source": [
    "accuracy_score(Y_test,y_pred)"
   ]
  },
  {
   "cell_type": "code",
   "execution_count": 41,
   "id": "b8342fc5",
   "metadata": {},
   "outputs": [
    {
     "data": {
      "text/plain": [
       "array([[717, 235],\n",
       "       [499, 546]], dtype=int64)"
      ]
     },
     "execution_count": 41,
     "metadata": {},
     "output_type": "execute_result"
    }
   ],
   "source": [
    "confusion_matrix(Y_test,y_pred)"
   ]
  },
  {
   "cell_type": "code",
   "execution_count": 42,
   "id": "d1444967",
   "metadata": {},
   "outputs": [],
   "source": [
    "from sklearn.ensemble import RandomForestClassifier"
   ]
  },
  {
   "cell_type": "code",
   "execution_count": 43,
   "id": "e73ecae6",
   "metadata": {},
   "outputs": [],
   "source": [
    "rfc=RandomForestClassifier(n_estimators=200,max_depth=None)"
   ]
  },
  {
   "cell_type": "code",
   "execution_count": 44,
   "id": "ac477218",
   "metadata": {},
   "outputs": [
    {
     "data": {
      "text/html": [
       "<style>#sk-container-id-2 {color: black;background-color: white;}#sk-container-id-2 pre{padding: 0;}#sk-container-id-2 div.sk-toggleable {background-color: white;}#sk-container-id-2 label.sk-toggleable__label {cursor: pointer;display: block;width: 100%;margin-bottom: 0;padding: 0.3em;box-sizing: border-box;text-align: center;}#sk-container-id-2 label.sk-toggleable__label-arrow:before {content: \"▸\";float: left;margin-right: 0.25em;color: #696969;}#sk-container-id-2 label.sk-toggleable__label-arrow:hover:before {color: black;}#sk-container-id-2 div.sk-estimator:hover label.sk-toggleable__label-arrow:before {color: black;}#sk-container-id-2 div.sk-toggleable__content {max-height: 0;max-width: 0;overflow: hidden;text-align: left;background-color: #f0f8ff;}#sk-container-id-2 div.sk-toggleable__content pre {margin: 0.2em;color: black;border-radius: 0.25em;background-color: #f0f8ff;}#sk-container-id-2 input.sk-toggleable__control:checked~div.sk-toggleable__content {max-height: 200px;max-width: 100%;overflow: auto;}#sk-container-id-2 input.sk-toggleable__control:checked~label.sk-toggleable__label-arrow:before {content: \"▾\";}#sk-container-id-2 div.sk-estimator input.sk-toggleable__control:checked~label.sk-toggleable__label {background-color: #d4ebff;}#sk-container-id-2 div.sk-label input.sk-toggleable__control:checked~label.sk-toggleable__label {background-color: #d4ebff;}#sk-container-id-2 input.sk-hidden--visually {border: 0;clip: rect(1px 1px 1px 1px);clip: rect(1px, 1px, 1px, 1px);height: 1px;margin: -1px;overflow: hidden;padding: 0;position: absolute;width: 1px;}#sk-container-id-2 div.sk-estimator {font-family: monospace;background-color: #f0f8ff;border: 1px dotted black;border-radius: 0.25em;box-sizing: border-box;margin-bottom: 0.5em;}#sk-container-id-2 div.sk-estimator:hover {background-color: #d4ebff;}#sk-container-id-2 div.sk-parallel-item::after {content: \"\";width: 100%;border-bottom: 1px solid gray;flex-grow: 1;}#sk-container-id-2 div.sk-label:hover label.sk-toggleable__label {background-color: #d4ebff;}#sk-container-id-2 div.sk-serial::before {content: \"\";position: absolute;border-left: 1px solid gray;box-sizing: border-box;top: 0;bottom: 0;left: 50%;z-index: 0;}#sk-container-id-2 div.sk-serial {display: flex;flex-direction: column;align-items: center;background-color: white;padding-right: 0.2em;padding-left: 0.2em;position: relative;}#sk-container-id-2 div.sk-item {position: relative;z-index: 1;}#sk-container-id-2 div.sk-parallel {display: flex;align-items: stretch;justify-content: center;background-color: white;position: relative;}#sk-container-id-2 div.sk-item::before, #sk-container-id-2 div.sk-parallel-item::before {content: \"\";position: absolute;border-left: 1px solid gray;box-sizing: border-box;top: 0;bottom: 0;left: 50%;z-index: -1;}#sk-container-id-2 div.sk-parallel-item {display: flex;flex-direction: column;z-index: 1;position: relative;background-color: white;}#sk-container-id-2 div.sk-parallel-item:first-child::after {align-self: flex-end;width: 50%;}#sk-container-id-2 div.sk-parallel-item:last-child::after {align-self: flex-start;width: 50%;}#sk-container-id-2 div.sk-parallel-item:only-child::after {width: 0;}#sk-container-id-2 div.sk-dashed-wrapped {border: 1px dashed gray;margin: 0 0.4em 0.5em 0.4em;box-sizing: border-box;padding-bottom: 0.4em;background-color: white;}#sk-container-id-2 div.sk-label label {font-family: monospace;font-weight: bold;display: inline-block;line-height: 1.2em;}#sk-container-id-2 div.sk-label-container {text-align: center;}#sk-container-id-2 div.sk-container {/* jupyter's `normalize.less` sets `[hidden] { display: none; }` but bootstrap.min.css set `[hidden] { display: none !important; }` so we also need the `!important` here to be able to override the default hidden behavior on the sphinx rendered scikit-learn.org. See: https://github.com/scikit-learn/scikit-learn/issues/21755 */display: inline-block !important;position: relative;}#sk-container-id-2 div.sk-text-repr-fallback {display: none;}</style><div id=\"sk-container-id-2\" class=\"sk-top-container\"><div class=\"sk-text-repr-fallback\"><pre>RandomForestClassifier(n_estimators=200)</pre><b>In a Jupyter environment, please rerun this cell to show the HTML representation or trust the notebook. <br />On GitHub, the HTML representation is unable to render, please try loading this page with nbviewer.org.</b></div><div class=\"sk-container\" hidden><div class=\"sk-item\"><div class=\"sk-estimator sk-toggleable\"><input class=\"sk-toggleable__control sk-hidden--visually\" id=\"sk-estimator-id-2\" type=\"checkbox\" checked><label for=\"sk-estimator-id-2\" class=\"sk-toggleable__label sk-toggleable__label-arrow\">RandomForestClassifier</label><div class=\"sk-toggleable__content\"><pre>RandomForestClassifier(n_estimators=200)</pre></div></div></div></div></div>"
      ],
      "text/plain": [
       "RandomForestClassifier(n_estimators=200)"
      ]
     },
     "execution_count": 44,
     "metadata": {},
     "output_type": "execute_result"
    }
   ],
   "source": [
    "rfc.fit(X_train_bow,Y_train)"
   ]
  },
  {
   "cell_type": "code",
   "execution_count": 45,
   "id": "c12bcfba",
   "metadata": {},
   "outputs": [],
   "source": [
    "y_pred2=rfc.predict(X_test_bow)"
   ]
  },
  {
   "cell_type": "code",
   "execution_count": 46,
   "id": "815597e2",
   "metadata": {},
   "outputs": [
    {
     "data": {
      "text/plain": [
       "0.8647971957936905"
      ]
     },
     "execution_count": 46,
     "metadata": {},
     "output_type": "execute_result"
    }
   ],
   "source": [
    "accuracy_score(Y_test,y_pred2)"
   ]
  },
  {
   "cell_type": "code",
   "execution_count": 47,
   "id": "8024c500",
   "metadata": {},
   "outputs": [
    {
     "data": {
      "text/plain": [
       "array([1])"
      ]
     },
     "execution_count": 47,
     "metadata": {},
     "output_type": "execute_result"
    }
   ],
   "source": [
    "test_input=['what a great movie']\n",
    "test_input=cv.transform(test_input).toarray()\n",
    "rfc.predict(test_input)"
   ]
  },
  {
   "cell_type": "code",
   "execution_count": 48,
   "id": "a89d12de",
   "metadata": {},
   "outputs": [],
   "source": [
    "cv2=CountVectorizer(max_features=5000)\n",
    "\n",
    "X_train_bow=cv2.fit_transform(X_train).toarray()\n",
    "X_test_bow=cv2.transform(X_test).toarray()"
   ]
  },
  {
   "cell_type": "code",
   "execution_count": 49,
   "id": "94bf3ae5",
   "metadata": {},
   "outputs": [
    {
     "data": {
      "text/html": [
       "<style>#sk-container-id-3 {color: black;background-color: white;}#sk-container-id-3 pre{padding: 0;}#sk-container-id-3 div.sk-toggleable {background-color: white;}#sk-container-id-3 label.sk-toggleable__label {cursor: pointer;display: block;width: 100%;margin-bottom: 0;padding: 0.3em;box-sizing: border-box;text-align: center;}#sk-container-id-3 label.sk-toggleable__label-arrow:before {content: \"▸\";float: left;margin-right: 0.25em;color: #696969;}#sk-container-id-3 label.sk-toggleable__label-arrow:hover:before {color: black;}#sk-container-id-3 div.sk-estimator:hover label.sk-toggleable__label-arrow:before {color: black;}#sk-container-id-3 div.sk-toggleable__content {max-height: 0;max-width: 0;overflow: hidden;text-align: left;background-color: #f0f8ff;}#sk-container-id-3 div.sk-toggleable__content pre {margin: 0.2em;color: black;border-radius: 0.25em;background-color: #f0f8ff;}#sk-container-id-3 input.sk-toggleable__control:checked~div.sk-toggleable__content {max-height: 200px;max-width: 100%;overflow: auto;}#sk-container-id-3 input.sk-toggleable__control:checked~label.sk-toggleable__label-arrow:before {content: \"▾\";}#sk-container-id-3 div.sk-estimator input.sk-toggleable__control:checked~label.sk-toggleable__label {background-color: #d4ebff;}#sk-container-id-3 div.sk-label input.sk-toggleable__control:checked~label.sk-toggleable__label {background-color: #d4ebff;}#sk-container-id-3 input.sk-hidden--visually {border: 0;clip: rect(1px 1px 1px 1px);clip: rect(1px, 1px, 1px, 1px);height: 1px;margin: -1px;overflow: hidden;padding: 0;position: absolute;width: 1px;}#sk-container-id-3 div.sk-estimator {font-family: monospace;background-color: #f0f8ff;border: 1px dotted black;border-radius: 0.25em;box-sizing: border-box;margin-bottom: 0.5em;}#sk-container-id-3 div.sk-estimator:hover {background-color: #d4ebff;}#sk-container-id-3 div.sk-parallel-item::after {content: \"\";width: 100%;border-bottom: 1px solid gray;flex-grow: 1;}#sk-container-id-3 div.sk-label:hover label.sk-toggleable__label {background-color: #d4ebff;}#sk-container-id-3 div.sk-serial::before {content: \"\";position: absolute;border-left: 1px solid gray;box-sizing: border-box;top: 0;bottom: 0;left: 50%;z-index: 0;}#sk-container-id-3 div.sk-serial {display: flex;flex-direction: column;align-items: center;background-color: white;padding-right: 0.2em;padding-left: 0.2em;position: relative;}#sk-container-id-3 div.sk-item {position: relative;z-index: 1;}#sk-container-id-3 div.sk-parallel {display: flex;align-items: stretch;justify-content: center;background-color: white;position: relative;}#sk-container-id-3 div.sk-item::before, #sk-container-id-3 div.sk-parallel-item::before {content: \"\";position: absolute;border-left: 1px solid gray;box-sizing: border-box;top: 0;bottom: 0;left: 50%;z-index: -1;}#sk-container-id-3 div.sk-parallel-item {display: flex;flex-direction: column;z-index: 1;position: relative;background-color: white;}#sk-container-id-3 div.sk-parallel-item:first-child::after {align-self: flex-end;width: 50%;}#sk-container-id-3 div.sk-parallel-item:last-child::after {align-self: flex-start;width: 50%;}#sk-container-id-3 div.sk-parallel-item:only-child::after {width: 0;}#sk-container-id-3 div.sk-dashed-wrapped {border: 1px dashed gray;margin: 0 0.4em 0.5em 0.4em;box-sizing: border-box;padding-bottom: 0.4em;background-color: white;}#sk-container-id-3 div.sk-label label {font-family: monospace;font-weight: bold;display: inline-block;line-height: 1.2em;}#sk-container-id-3 div.sk-label-container {text-align: center;}#sk-container-id-3 div.sk-container {/* jupyter's `normalize.less` sets `[hidden] { display: none; }` but bootstrap.min.css set `[hidden] { display: none !important; }` so we also need the `!important` here to be able to override the default hidden behavior on the sphinx rendered scikit-learn.org. See: https://github.com/scikit-learn/scikit-learn/issues/21755 */display: inline-block !important;position: relative;}#sk-container-id-3 div.sk-text-repr-fallback {display: none;}</style><div id=\"sk-container-id-3\" class=\"sk-top-container\"><div class=\"sk-text-repr-fallback\"><pre>RandomForestClassifier(n_estimators=300)</pre><b>In a Jupyter environment, please rerun this cell to show the HTML representation or trust the notebook. <br />On GitHub, the HTML representation is unable to render, please try loading this page with nbviewer.org.</b></div><div class=\"sk-container\" hidden><div class=\"sk-item\"><div class=\"sk-estimator sk-toggleable\"><input class=\"sk-toggleable__control sk-hidden--visually\" id=\"sk-estimator-id-3\" type=\"checkbox\" checked><label for=\"sk-estimator-id-3\" class=\"sk-toggleable__label sk-toggleable__label-arrow\">RandomForestClassifier</label><div class=\"sk-toggleable__content\"><pre>RandomForestClassifier(n_estimators=300)</pre></div></div></div></div></div>"
      ],
      "text/plain": [
       "RandomForestClassifier(n_estimators=300)"
      ]
     },
     "execution_count": 49,
     "metadata": {},
     "output_type": "execute_result"
    }
   ],
   "source": [
    "rfc2=RandomForestClassifier(n_estimators=300,max_depth=None)\n",
    "rfc2.fit(X_train_bow,Y_train)"
   ]
  },
  {
   "cell_type": "code",
   "execution_count": 50,
   "id": "ebcbd439",
   "metadata": {},
   "outputs": [],
   "source": [
    "y_pred3=rfc2.predict(X_test_bow)"
   ]
  },
  {
   "cell_type": "code",
   "execution_count": 51,
   "id": "ed127e9a",
   "metadata": {},
   "outputs": [
    {
     "data": {
      "text/plain": [
       "0.8482724086129194"
      ]
     },
     "execution_count": 51,
     "metadata": {},
     "output_type": "execute_result"
    }
   ],
   "source": [
    "accuracy_score(Y_test,y_pred3)"
   ]
  },
  {
   "cell_type": "code",
   "execution_count": 52,
   "id": "0e752319",
   "metadata": {},
   "outputs": [
    {
     "data": {
      "text/plain": [
       "array([0])"
      ]
     },
     "execution_count": 52,
     "metadata": {},
     "output_type": "execute_result"
    }
   ],
   "source": [
    "test_input=['what a bad movie']\n",
    "test_input=cv2.transform(test_input).toarray()\n",
    "rfc2.predict(test_input)"
   ]
  },
  {
   "cell_type": "markdown",
   "id": "acd84a03",
   "metadata": {},
   "source": [
    "# Using Tfidf"
   ]
  },
  {
   "cell_type": "code",
   "execution_count": 54,
   "id": "7ebff30c",
   "metadata": {},
   "outputs": [],
   "source": [
    "from sklearn.feature_extraction.text import TfidfVectorizer\n",
    "tfidf=TfidfVectorizer()"
   ]
  },
  {
   "cell_type": "code",
   "execution_count": 55,
   "id": "e8b0ff79",
   "metadata": {},
   "outputs": [],
   "source": [
    "X_train_tfidf=tfidf.fit_transform(X_train).toarray()\n",
    "X_test_tfidf=tfidf.transform(X_test).toarray()"
   ]
  },
  {
   "cell_type": "code",
   "execution_count": 56,
   "id": "af1b4b99",
   "metadata": {},
   "outputs": [
    {
     "data": {
      "text/html": [
       "<style>#sk-container-id-4 {color: black;background-color: white;}#sk-container-id-4 pre{padding: 0;}#sk-container-id-4 div.sk-toggleable {background-color: white;}#sk-container-id-4 label.sk-toggleable__label {cursor: pointer;display: block;width: 100%;margin-bottom: 0;padding: 0.3em;box-sizing: border-box;text-align: center;}#sk-container-id-4 label.sk-toggleable__label-arrow:before {content: \"▸\";float: left;margin-right: 0.25em;color: #696969;}#sk-container-id-4 label.sk-toggleable__label-arrow:hover:before {color: black;}#sk-container-id-4 div.sk-estimator:hover label.sk-toggleable__label-arrow:before {color: black;}#sk-container-id-4 div.sk-toggleable__content {max-height: 0;max-width: 0;overflow: hidden;text-align: left;background-color: #f0f8ff;}#sk-container-id-4 div.sk-toggleable__content pre {margin: 0.2em;color: black;border-radius: 0.25em;background-color: #f0f8ff;}#sk-container-id-4 input.sk-toggleable__control:checked~div.sk-toggleable__content {max-height: 200px;max-width: 100%;overflow: auto;}#sk-container-id-4 input.sk-toggleable__control:checked~label.sk-toggleable__label-arrow:before {content: \"▾\";}#sk-container-id-4 div.sk-estimator input.sk-toggleable__control:checked~label.sk-toggleable__label {background-color: #d4ebff;}#sk-container-id-4 div.sk-label input.sk-toggleable__control:checked~label.sk-toggleable__label {background-color: #d4ebff;}#sk-container-id-4 input.sk-hidden--visually {border: 0;clip: rect(1px 1px 1px 1px);clip: rect(1px, 1px, 1px, 1px);height: 1px;margin: -1px;overflow: hidden;padding: 0;position: absolute;width: 1px;}#sk-container-id-4 div.sk-estimator {font-family: monospace;background-color: #f0f8ff;border: 1px dotted black;border-radius: 0.25em;box-sizing: border-box;margin-bottom: 0.5em;}#sk-container-id-4 div.sk-estimator:hover {background-color: #d4ebff;}#sk-container-id-4 div.sk-parallel-item::after {content: \"\";width: 100%;border-bottom: 1px solid gray;flex-grow: 1;}#sk-container-id-4 div.sk-label:hover label.sk-toggleable__label {background-color: #d4ebff;}#sk-container-id-4 div.sk-serial::before {content: \"\";position: absolute;border-left: 1px solid gray;box-sizing: border-box;top: 0;bottom: 0;left: 50%;z-index: 0;}#sk-container-id-4 div.sk-serial {display: flex;flex-direction: column;align-items: center;background-color: white;padding-right: 0.2em;padding-left: 0.2em;position: relative;}#sk-container-id-4 div.sk-item {position: relative;z-index: 1;}#sk-container-id-4 div.sk-parallel {display: flex;align-items: stretch;justify-content: center;background-color: white;position: relative;}#sk-container-id-4 div.sk-item::before, #sk-container-id-4 div.sk-parallel-item::before {content: \"\";position: absolute;border-left: 1px solid gray;box-sizing: border-box;top: 0;bottom: 0;left: 50%;z-index: -1;}#sk-container-id-4 div.sk-parallel-item {display: flex;flex-direction: column;z-index: 1;position: relative;background-color: white;}#sk-container-id-4 div.sk-parallel-item:first-child::after {align-self: flex-end;width: 50%;}#sk-container-id-4 div.sk-parallel-item:last-child::after {align-self: flex-start;width: 50%;}#sk-container-id-4 div.sk-parallel-item:only-child::after {width: 0;}#sk-container-id-4 div.sk-dashed-wrapped {border: 1px dashed gray;margin: 0 0.4em 0.5em 0.4em;box-sizing: border-box;padding-bottom: 0.4em;background-color: white;}#sk-container-id-4 div.sk-label label {font-family: monospace;font-weight: bold;display: inline-block;line-height: 1.2em;}#sk-container-id-4 div.sk-label-container {text-align: center;}#sk-container-id-4 div.sk-container {/* jupyter's `normalize.less` sets `[hidden] { display: none; }` but bootstrap.min.css set `[hidden] { display: none !important; }` so we also need the `!important` here to be able to override the default hidden behavior on the sphinx rendered scikit-learn.org. See: https://github.com/scikit-learn/scikit-learn/issues/21755 */display: inline-block !important;position: relative;}#sk-container-id-4 div.sk-text-repr-fallback {display: none;}</style><div id=\"sk-container-id-4\" class=\"sk-top-container\"><div class=\"sk-text-repr-fallback\"><pre>RandomForestClassifier(n_estimators=200)</pre><b>In a Jupyter environment, please rerun this cell to show the HTML representation or trust the notebook. <br />On GitHub, the HTML representation is unable to render, please try loading this page with nbviewer.org.</b></div><div class=\"sk-container\" hidden><div class=\"sk-item\"><div class=\"sk-estimator sk-toggleable\"><input class=\"sk-toggleable__control sk-hidden--visually\" id=\"sk-estimator-id-4\" type=\"checkbox\" checked><label for=\"sk-estimator-id-4\" class=\"sk-toggleable__label sk-toggleable__label-arrow\">RandomForestClassifier</label><div class=\"sk-toggleable__content\"><pre>RandomForestClassifier(n_estimators=200)</pre></div></div></div></div></div>"
      ],
      "text/plain": [
       "RandomForestClassifier(n_estimators=200)"
      ]
     },
     "execution_count": 56,
     "metadata": {},
     "output_type": "execute_result"
    }
   ],
   "source": [
    "rfc.fit(X_train_tfidf,Y_train)"
   ]
  },
  {
   "cell_type": "code",
   "execution_count": 57,
   "id": "e0c42ecb",
   "metadata": {},
   "outputs": [],
   "source": [
    "y_pred=rfc.predict(X_test_tfidf)"
   ]
  },
  {
   "cell_type": "code",
   "execution_count": 58,
   "id": "66dbbcef",
   "metadata": {},
   "outputs": [
    {
     "data": {
      "text/plain": [
       "0.8522784176264396"
      ]
     },
     "execution_count": 58,
     "metadata": {},
     "output_type": "execute_result"
    }
   ],
   "source": [
    "accuracy_score(Y_test,y_pred)"
   ]
  },
  {
   "cell_type": "code",
   "execution_count": 59,
   "id": "7c271d5d",
   "metadata": {},
   "outputs": [
    {
     "data": {
      "text/plain": [
       "array([0])"
      ]
     },
     "execution_count": 59,
     "metadata": {},
     "output_type": "execute_result"
    }
   ],
   "source": [
    "test_input=['what a bad movie']\n",
    "test_input=cv2.transform(test_input).toarray()\n",
    "rfc2.predict(test_input)"
   ]
  },
  {
   "cell_type": "code",
   "execution_count": 60,
   "id": "68f99963",
   "metadata": {},
   "outputs": [
    {
     "data": {
      "text/plain": [
       "array([1])"
      ]
     },
     "execution_count": 60,
     "metadata": {},
     "output_type": "execute_result"
    }
   ],
   "source": [
    "test_input=['what a beautiful movie']\n",
    "test_input=cv2.transform(test_input).toarray()\n",
    "rfc2.predict(test_input)"
   ]
  },
  {
   "cell_type": "markdown",
   "id": "39b42940",
   "metadata": {},
   "source": [
    "# Using Word2Vec"
   ]
  },
  {
   "cell_type": "code",
   "execution_count": 67,
   "id": "ee990b72",
   "metadata": {},
   "outputs": [],
   "source": [
    "from nltk import word_tokenize,sent_tokenize\n",
    "from gensim.utils import simple_preprocess\n",
    "import gensim"
   ]
  },
  {
   "cell_type": "code",
   "execution_count": 64,
   "id": "718bdb7e",
   "metadata": {},
   "outputs": [],
   "source": [
    "story=[]\n",
    "\n",
    "for doc in df['review']:\n",
    "    raw_sent=sent_tokenize(doc)\n",
    "    for sent in raw_sent:\n",
    "        story.append(simple_preprocess(sent))"
   ]
  },
  {
   "cell_type": "code",
   "execution_count": 66,
   "id": "9b02c60a",
   "metadata": {},
   "outputs": [
    {
     "data": {
      "text/plain": [
       "105773"
      ]
     },
     "execution_count": 66,
     "metadata": {},
     "output_type": "execute_result"
    }
   ],
   "source": [
    "len(story)"
   ]
  },
  {
   "cell_type": "code",
   "execution_count": 68,
   "id": "37c60e0b",
   "metadata": {},
   "outputs": [],
   "source": [
    "model=gensim.models.Word2Vec(window=10,min_count=2)"
   ]
  },
  {
   "cell_type": "code",
   "execution_count": 69,
   "id": "78b3b614",
   "metadata": {},
   "outputs": [],
   "source": [
    "model.build_vocab(story)"
   ]
  },
  {
   "cell_type": "code",
   "execution_count": 70,
   "id": "0817983a",
   "metadata": {},
   "outputs": [
    {
     "data": {
      "text/plain": [
       "(5876458, 6212140)"
      ]
     },
     "execution_count": 70,
     "metadata": {},
     "output_type": "execute_result"
    }
   ],
   "source": [
    "model.train(story,total_examples=model.corpus_count,epochs=model.epochs)"
   ]
  },
  {
   "cell_type": "code",
   "execution_count": 71,
   "id": "2e43f88e",
   "metadata": {},
   "outputs": [
    {
     "data": {
      "text/plain": [
       "31845"
      ]
     },
     "execution_count": 71,
     "metadata": {},
     "output_type": "execute_result"
    }
   ],
   "source": [
    "len(model.wv.index_to_key)"
   ]
  },
  {
   "cell_type": "code",
   "execution_count": 72,
   "id": "d8d53b2b",
   "metadata": {},
   "outputs": [
    {
     "data": {
      "text/plain": [
       "['movie',\n",
       " 'film',\n",
       " 'one',\n",
       " 'like',\n",
       " 'good',\n",
       " 'it',\n",
       " 'the',\n",
       " 'would',\n",
       " 'time',\n",
       " 'even',\n",
       " 'story',\n",
       " 'see',\n",
       " 'really',\n",
       " 'well',\n",
       " 'much',\n",
       " 'get',\n",
       " 'bad',\n",
       " 'great',\n",
       " 'people',\n",
       " 'first',\n",
       " 'also',\n",
       " 'made',\n",
       " 'make',\n",
       " 'way',\n",
       " 'movies',\n",
       " 'could',\n",
       " 'think',\n",
       " 'characters',\n",
       " 'watch',\n",
       " 'character',\n",
       " 'films',\n",
       " 'that',\n",
       " 'never',\n",
       " 'little',\n",
       " 'show',\n",
       " 'seen',\n",
       " 'many',\n",
       " 'two',\n",
       " 'love',\n",
       " 'acting',\n",
       " 'plot',\n",
       " 'best',\n",
       " 'know',\n",
       " 'life',\n",
       " 'this',\n",
       " 'ever',\n",
       " 'better',\n",
       " 'man',\n",
       " 'there',\n",
       " 'still',\n",
       " 'say',\n",
       " 'scene',\n",
       " 'end',\n",
       " 'and',\n",
       " 'scenes',\n",
       " 'something',\n",
       " 'go',\n",
       " 'real',\n",
       " 'back',\n",
       " 'watching',\n",
       " 'director',\n",
       " 'actors',\n",
       " 'years',\n",
       " 'thing',\n",
       " 'though',\n",
       " 've',\n",
       " 'work',\n",
       " 'look',\n",
       " 'funny',\n",
       " 'actually',\n",
       " 'old',\n",
       " 'nothing',\n",
       " 'going',\n",
       " 'makes',\n",
       " 'new',\n",
       " 'lot',\n",
       " 'another',\n",
       " 'all',\n",
       " 'every',\n",
       " 'find',\n",
       " 'pretty',\n",
       " 'things',\n",
       " 'part',\n",
       " 'can',\n",
       " 'he',\n",
       " 'us',\n",
       " 'world',\n",
       " 'horror',\n",
       " 'around',\n",
       " 'want',\n",
       " 'big',\n",
       " 'quite',\n",
       " 'cast',\n",
       " 'long',\n",
       " 'young',\n",
       " 'enough',\n",
       " 'in',\n",
       " 'take',\n",
       " 'seems',\n",
       " 'got',\n",
       " 'must',\n",
       " 'however',\n",
       " 'may',\n",
       " 'thought',\n",
       " 'fact',\n",
       " 'right',\n",
       " 'come',\n",
       " 'music',\n",
       " 'comedy',\n",
       " 'give',\n",
       " 'original',\n",
       " 'without',\n",
       " 'action',\n",
       " 'always',\n",
       " 'almost',\n",
       " 'script',\n",
       " 'interesting',\n",
       " 'gets',\n",
       " 'done',\n",
       " 'point',\n",
       " 'anything',\n",
       " 'saw',\n",
       " 'series',\n",
       " 'times',\n",
       " 'since',\n",
       " 'least',\n",
       " 'is',\n",
       " 'might',\n",
       " 'guy',\n",
       " 'role',\n",
       " 'whole',\n",
       " 'feel',\n",
       " 'minutes',\n",
       " 'family',\n",
       " 'bit',\n",
       " 'making',\n",
       " 'me',\n",
       " 'far',\n",
       " 'performance',\n",
       " 'probably',\n",
       " 'girl',\n",
       " 'last',\n",
       " 'woman',\n",
       " 'away',\n",
       " 'but',\n",
       " 'tv',\n",
       " 'yet',\n",
       " 'anyone',\n",
       " 'played',\n",
       " 'sure',\n",
       " 'day',\n",
       " 'rather',\n",
       " 'kind',\n",
       " 'on',\n",
       " 'screen',\n",
       " 'you',\n",
       " 'found',\n",
       " 're',\n",
       " 'hard',\n",
       " 'fun',\n",
       " 'here',\n",
       " 'them',\n",
       " 'out',\n",
       " 'course',\n",
       " 'worst',\n",
       " 'looking',\n",
       " 'up',\n",
       " 'although',\n",
       " 'comes',\n",
       " 'american',\n",
       " 'dvd',\n",
       " 'especially',\n",
       " 'put',\n",
       " 'three',\n",
       " 'book',\n",
       " 'shows',\n",
       " 'him',\n",
       " 'everything',\n",
       " 'so',\n",
       " 'set',\n",
       " 'believe',\n",
       " 'maybe',\n",
       " 'someone',\n",
       " 'place',\n",
       " 'let',\n",
       " 'main',\n",
       " 'money',\n",
       " 'actor',\n",
       " 'trying',\n",
       " 'ending',\n",
       " 'year',\n",
       " 'effects',\n",
       " 'goes',\n",
       " 'watched',\n",
       " 'looks',\n",
       " 'war',\n",
       " 'worth',\n",
       " 'job',\n",
       " 'beautiful',\n",
       " 'again',\n",
       " 'takes',\n",
       " 'sense',\n",
       " 'true',\n",
       " 'different',\n",
       " 'they',\n",
       " 'everyone',\n",
       " 'night',\n",
       " 'idea',\n",
       " 'reason',\n",
       " 'together',\n",
       " 'said',\n",
       " 'john',\n",
       " 'special',\n",
       " 'audience',\n",
       " 'high',\n",
       " 'play',\n",
       " 'seem',\n",
       " 'excellent',\n",
       " 'half',\n",
       " 'instead',\n",
       " 'left',\n",
       " 'shot',\n",
       " 'plays',\n",
       " 'what',\n",
       " 'star',\n",
       " 'used',\n",
       " 'house',\n",
       " 'along',\n",
       " 'budget',\n",
       " 'mind',\n",
       " 'simply',\n",
       " 'version',\n",
       " 'death',\n",
       " 'poor',\n",
       " 'seeing',\n",
       " 'men',\n",
       " 'later',\n",
       " 'else',\n",
       " 'not',\n",
       " 'completely',\n",
       " 'nice',\n",
       " 'wife',\n",
       " 'line',\n",
       " 'father',\n",
       " 'black',\n",
       " 'home',\n",
       " 'dead',\n",
       " 'stupid',\n",
       " 'less',\n",
       " 'fan',\n",
       " 'hollywood',\n",
       " 'second',\n",
       " 'read',\n",
       " 'given',\n",
       " 'use',\n",
       " 'low',\n",
       " 'short',\n",
       " 'kids',\n",
       " 'who',\n",
       " 'couple',\n",
       " 'need',\n",
       " 'camera',\n",
       " 'production',\n",
       " 'friends',\n",
       " 'top',\n",
       " 'women',\n",
       " 'classic',\n",
       " 'boring',\n",
       " 'performances',\n",
       " 'help',\n",
       " 'wrong',\n",
       " 'video',\n",
       " 'her',\n",
       " 'awful',\n",
       " 'tell',\n",
       " 'try',\n",
       " 'either',\n",
       " 'recommend',\n",
       " 'came',\n",
       " 'wonderful',\n",
       " 'rest',\n",
       " 'full',\n",
       " 'game',\n",
       " 'too',\n",
       " 'mother',\n",
       " 'person',\n",
       " 'small',\n",
       " 'next',\n",
       " 'truly',\n",
       " 'playing',\n",
       " 'face',\n",
       " 'terrible',\n",
       " 'children',\n",
       " 'name',\n",
       " 'human',\n",
       " 'remember',\n",
       " 'head',\n",
       " 'keep',\n",
       " 'to',\n",
       " 'finally',\n",
       " 'getting',\n",
       " 'perfect',\n",
       " 'absolutely',\n",
       " 'll',\n",
       " 'piece',\n",
       " 'worse',\n",
       " 'episode',\n",
       " 'stars',\n",
       " 'often',\n",
       " 'enjoy',\n",
       " 'school',\n",
       " 'gives',\n",
       " 'now',\n",
       " 'style',\n",
       " 'mean',\n",
       " 'others',\n",
       " 'understand',\n",
       " 'perhaps',\n",
       " 'sex',\n",
       " 'dialogue',\n",
       " 'start',\n",
       " 'definitely',\n",
       " 'we',\n",
       " 'moments',\n",
       " 'off',\n",
       " 'case',\n",
       " 'become',\n",
       " 'cinema',\n",
       " 'as',\n",
       " 'yes',\n",
       " 'early',\n",
       " 'called',\n",
       " 'went',\n",
       " 'based',\n",
       " 'evil',\n",
       " 'picture',\n",
       " 'title',\n",
       " 'no',\n",
       " 'friend',\n",
       " 'boy',\n",
       " 'certainly',\n",
       " 'laugh',\n",
       " 'oh',\n",
       " 'written',\n",
       " 'lines',\n",
       " 'drama',\n",
       " 'felt',\n",
       " 'guys',\n",
       " 'killer',\n",
       " 'direction',\n",
       " 'beginning',\n",
       " 'totally',\n",
       " 'if',\n",
       " 'fans',\n",
       " 'loved',\n",
       " 'sound',\n",
       " 'entire',\n",
       " 'problem',\n",
       " 'live',\n",
       " 'entertaining',\n",
       " 'for',\n",
       " 'sort',\n",
       " 'several',\n",
       " 'mr',\n",
       " 'lives',\n",
       " 'waste',\n",
       " 'lost',\n",
       " 'liked',\n",
       " 'supposed',\n",
       " 'throughout',\n",
       " 'overall',\n",
       " 'hope',\n",
       " 'despite',\n",
       " 'god',\n",
       " 'town',\n",
       " 'care',\n",
       " 'able',\n",
       " 'fine',\n",
       " 'of',\n",
       " 'days',\n",
       " 'heart',\n",
       " 'history',\n",
       " 'final',\n",
       " 'turn',\n",
       " 'matter',\n",
       " 'already',\n",
       " 'stuff',\n",
       " 'humor',\n",
       " 'close',\n",
       " 'with',\n",
       " 'dark',\n",
       " 'seemed',\n",
       " 'over',\n",
       " 'white',\n",
       " 'side',\n",
       " 'past',\n",
       " 'act',\n",
       " 'gave',\n",
       " 'today',\n",
       " 'michael',\n",
       " 'lead',\n",
       " 'car',\n",
       " 'example',\n",
       " 'quality',\n",
       " 'writing',\n",
       " 'turns',\n",
       " 'or',\n",
       " 'viewer',\n",
       " 'wanted',\n",
       " 'brilliant',\n",
       " 'wants',\n",
       " 'amazing',\n",
       " 'guess',\n",
       " 'son',\n",
       " 'horrible',\n",
       " 'hour',\n",
       " 'kill',\n",
       " 'works',\n",
       " 'eyes',\n",
       " 'child',\n",
       " 'behind',\n",
       " 'do',\n",
       " 'enjoyed',\n",
       " 'unfortunately',\n",
       " 'sometimes',\n",
       " 'tries',\n",
       " 'art',\n",
       " 'favorite',\n",
       " 'late',\n",
       " 'becomes',\n",
       " 'extremely',\n",
       " 'city',\n",
       " 'lack',\n",
       " 'stop',\n",
       " 'etc',\n",
       " 'run',\n",
       " 'soon',\n",
       " 'directed',\n",
       " 'flick',\n",
       " 'be',\n",
       " 'known',\n",
       " 'girls',\n",
       " 'actress',\n",
       " 'fight',\n",
       " 'parts',\n",
       " 'killed',\n",
       " 'type',\n",
       " 'took',\n",
       " 'decent',\n",
       " 'coming',\n",
       " 'feeling',\n",
       " 'starts',\n",
       " 'obviously',\n",
       " 'looked',\n",
       " 'highly',\n",
       " 'genre',\n",
       " 'expect',\n",
       " 'daughter',\n",
       " 'except',\n",
       " 'was',\n",
       " 'involved',\n",
       " 'slow',\n",
       " 'self',\n",
       " 'told',\n",
       " 'hand',\n",
       " 'experience',\n",
       " 'chance',\n",
       " 'thinking',\n",
       " 'police',\n",
       " 'gore',\n",
       " 'murder',\n",
       " 'voice',\n",
       " 'age',\n",
       " 'group',\n",
       " 'says',\n",
       " 'which',\n",
       " 'kid',\n",
       " 'leave',\n",
       " 'reality',\n",
       " 'moment',\n",
       " 'english',\n",
       " 'attempt',\n",
       " 'happen',\n",
       " 'writer',\n",
       " 'saying',\n",
       " 'robert',\n",
       " 'cut',\n",
       " 'then',\n",
       " 'hell',\n",
       " 'word',\n",
       " 'james',\n",
       " 'happens',\n",
       " 'blood',\n",
       " 'ago',\n",
       " 'heard',\n",
       " 'david',\n",
       " 'violence',\n",
       " 'brother',\n",
       " 'anyway',\n",
       " 'simple',\n",
       " 'particularly',\n",
       " 'score',\n",
       " 'roles',\n",
       " 'view',\n",
       " 'opening',\n",
       " 'seriously',\n",
       " 'hilarious',\n",
       " 'serious',\n",
       " 'living',\n",
       " 'obvious',\n",
       " 'number',\n",
       " 'including',\n",
       " 'power',\n",
       " 'save',\n",
       " 'possible',\n",
       " 'cannot',\n",
       " 'ok',\n",
       " 'complete',\n",
       " 'cool',\n",
       " 'stories',\n",
       " 'hero',\n",
       " 'interest',\n",
       " 'annoying',\n",
       " 'across',\n",
       " 'wonder',\n",
       " 'order',\n",
       " 'relationship',\n",
       " 'song',\n",
       " 'none',\n",
       " 'words',\n",
       " 'important',\n",
       " 'ridiculous',\n",
       " 'alone',\n",
       " 'husband',\n",
       " 'body',\n",
       " 'hours',\n",
       " 'scary',\n",
       " 'novel',\n",
       " 'talent',\n",
       " 'jokes',\n",
       " 'more',\n",
       " 'whose',\n",
       " 'documentary',\n",
       " 'huge',\n",
       " 'television',\n",
       " 'released',\n",
       " 'shown',\n",
       " 'started',\n",
       " 'strong',\n",
       " 'non',\n",
       " 'running',\n",
       " 'turned',\n",
       " 'career',\n",
       " 'exactly',\n",
       " 'hit',\n",
       " 'disappointed',\n",
       " 'ones',\n",
       " 'mostly',\n",
       " 'cinematography',\n",
       " 'problems',\n",
       " 'sad',\n",
       " 'taken',\n",
       " 'usually',\n",
       " 'usual',\n",
       " 'die',\n",
       " 'beyond',\n",
       " 'shots',\n",
       " 'cheap',\n",
       " 'happened',\n",
       " 'lots',\n",
       " 'before',\n",
       " 'due',\n",
       " 'rating',\n",
       " 'british',\n",
       " 'other',\n",
       " 'crap',\n",
       " 'apparently',\n",
       " 'upon',\n",
       " 'bring',\n",
       " 'happy',\n",
       " 'space',\n",
       " 'taking',\n",
       " 'silly',\n",
       " 'modern',\n",
       " 'opinion',\n",
       " 'attention',\n",
       " 'call',\n",
       " 'light',\n",
       " 'country',\n",
       " 'rock',\n",
       " 'please',\n",
       " 'basically',\n",
       " 'change',\n",
       " 'songs',\n",
       " 'middle',\n",
       " 'sets',\n",
       " 'episodes',\n",
       " 'comic',\n",
       " 'dull',\n",
       " 'miss',\n",
       " 'hate',\n",
       " 'major',\n",
       " 'musical',\n",
       " 'room',\n",
       " 'single',\n",
       " 'monster',\n",
       " 'level',\n",
       " 'ends',\n",
       " 'clearly',\n",
       " 'local',\n",
       " 'four',\n",
       " 'french',\n",
       " 'knows',\n",
       " 'deal',\n",
       " 'moving',\n",
       " 'strange',\n",
       " 'whether',\n",
       " 'class',\n",
       " 'soundtrack',\n",
       " 'female',\n",
       " 'message',\n",
       " 'jack',\n",
       " 'clear',\n",
       " 'enjoyable',\n",
       " 'wish',\n",
       " 'thriller',\n",
       " 'events',\n",
       " 'filmed',\n",
       " 'actual',\n",
       " 'talking',\n",
       " 'romantic',\n",
       " 'somewhat',\n",
       " 'king',\n",
       " 'finds',\n",
       " 'straight',\n",
       " 'storyline',\n",
       " 'knew',\n",
       " 'suspense',\n",
       " 'sequence',\n",
       " 'tells',\n",
       " 'down',\n",
       " 'supporting',\n",
       " 'needs',\n",
       " 'about',\n",
       " 'buy',\n",
       " 'ten',\n",
       " 'add',\n",
       " 'working',\n",
       " 'talk',\n",
       " 'dance',\n",
       " 'predictable',\n",
       " 'mystery',\n",
       " 'comments',\n",
       " 'bunch',\n",
       " 'easy',\n",
       " 'tried',\n",
       " 'form',\n",
       " 'george',\n",
       " 'fast',\n",
       " 'earth',\n",
       " 'doubt',\n",
       " 'easily',\n",
       " 'sister',\n",
       " 'entertainment',\n",
       " 'review',\n",
       " 'similar',\n",
       " 'surprise',\n",
       " 'team',\n",
       " 'editing',\n",
       " 'eye',\n",
       " 'why',\n",
       " 'five',\n",
       " 'parents',\n",
       " 'typical',\n",
       " 'okay',\n",
       " 'falls',\n",
       " 'within',\n",
       " 'did',\n",
       " 'at',\n",
       " 'feels',\n",
       " 'giving',\n",
       " 'rent',\n",
       " 'average',\n",
       " 'crime',\n",
       " 'check',\n",
       " 'realistic',\n",
       " 'crew',\n",
       " 'disney',\n",
       " 'using',\n",
       " 'greatest',\n",
       " 'period',\n",
       " 'learn',\n",
       " 'points',\n",
       " 'dialog',\n",
       " 'among',\n",
       " 'release',\n",
       " 'appears',\n",
       " 'mention',\n",
       " 'doctor',\n",
       " 'effort',\n",
       " 'memorable',\n",
       " 'surprised',\n",
       " 'stand',\n",
       " 'lady',\n",
       " 'gone',\n",
       " 'expected',\n",
       " 'sorry',\n",
       " 'paul',\n",
       " 'deep',\n",
       " 'romance',\n",
       " 'near',\n",
       " 'believable',\n",
       " 'brought',\n",
       " 'figure',\n",
       " 'showing',\n",
       " 'sequences',\n",
       " 'dr',\n",
       " 'th',\n",
       " 'nearly',\n",
       " 'lame',\n",
       " 'kept',\n",
       " 'ways',\n",
       " 'subject',\n",
       " 'feature',\n",
       " 'indeed',\n",
       " 'sequel',\n",
       " 'named',\n",
       " 'stay',\n",
       " 'elements',\n",
       " 'decided',\n",
       " 'avoid',\n",
       " 'certain',\n",
       " 'material',\n",
       " 'animation',\n",
       " 'forget',\n",
       " 'viewers',\n",
       " 'future',\n",
       " 'wait',\n",
       " 'otherwise',\n",
       " 'killing',\n",
       " 'dog',\n",
       " 'famous',\n",
       " 'means',\n",
       " 'fi',\n",
       " 'fall',\n",
       " 'viewing',\n",
       " 'screenplay',\n",
       " 'sci',\n",
       " 'box',\n",
       " 'note',\n",
       " 'theme',\n",
       " 'minute',\n",
       " 'truth',\n",
       " 'laughs',\n",
       " 'needed',\n",
       " 'sit',\n",
       " 'fantastic',\n",
       " 'begins',\n",
       " 'water',\n",
       " 'theater',\n",
       " 'open',\n",
       " 'america',\n",
       " 'somehow',\n",
       " 'move',\n",
       " 'stage',\n",
       " 'whatever',\n",
       " 'hear',\n",
       " 'tale',\n",
       " 'richard',\n",
       " 'mark',\n",
       " 'york',\n",
       " 'oscar',\n",
       " 'meet',\n",
       " 'footage',\n",
       " 'imagine',\n",
       " 'begin',\n",
       " 'follow',\n",
       " 'worked',\n",
       " 'meets',\n",
       " 'are',\n",
       " 'shame',\n",
       " 'leaves',\n",
       " 'lee',\n",
       " 'question',\n",
       " 'difficult',\n",
       " 'particular',\n",
       " 'imdb',\n",
       " 'crazy',\n",
       " 'weak',\n",
       " 'island',\n",
       " 'total',\n",
       " 'peter',\n",
       " 'de',\n",
       " 'directing',\n",
       " 'baby',\n",
       " 'reviews',\n",
       " 'setting',\n",
       " 'possibly',\n",
       " 'air',\n",
       " 'general',\n",
       " 'hot',\n",
       " 'effect',\n",
       " 'battle',\n",
       " 'credits',\n",
       " 'tom',\n",
       " 'situation',\n",
       " 'towards',\n",
       " 'premise',\n",
       " 'my',\n",
       " 'atmosphere',\n",
       " 'japanese',\n",
       " 'nature',\n",
       " 'realize',\n",
       " 'himself',\n",
       " 'poorly',\n",
       " 'powerful',\n",
       " 'features',\n",
       " 'rate',\n",
       " 'gay',\n",
       " 'cheesy',\n",
       " 'plain',\n",
       " 'plus',\n",
       " 'sounds',\n",
       " 'don',\n",
       " 'forward',\n",
       " 'eventually',\n",
       " 'boys',\n",
       " 'earlier',\n",
       " 'leads',\n",
       " 'rich',\n",
       " 'missing',\n",
       " 'society',\n",
       " 'beauty',\n",
       " 'became',\n",
       " 'business',\n",
       " 'various',\n",
       " 'acted',\n",
       " 'western',\n",
       " 'dumb',\n",
       " 'perfectly',\n",
       " 'party',\n",
       " 'caught',\n",
       " 'creepy',\n",
       " 'era',\n",
       " 'superb',\n",
       " 'telling',\n",
       " 'free',\n",
       " 'brings',\n",
       " 'red',\n",
       " 'fire',\n",
       " 'result',\n",
       " 'badly',\n",
       " 'cop',\n",
       " 'mess',\n",
       " 'personal',\n",
       " 'sexual',\n",
       " 'outside',\n",
       " 'emotional',\n",
       " 'gun',\n",
       " 'reasons',\n",
       " 'directors',\n",
       " 'leading',\n",
       " 'development',\n",
       " 'quickly',\n",
       " 'weird',\n",
       " 'william',\n",
       " 'fairly',\n",
       " 'fails',\n",
       " 'street',\n",
       " 'unless',\n",
       " 'season',\n",
       " 'admit',\n",
       " 'dramatic',\n",
       " 'political',\n",
       " 'masterpiece',\n",
       " 'write',\n",
       " 'secret',\n",
       " 'bill',\n",
       " 'incredibly',\n",
       " 'success',\n",
       " 'return',\n",
       " 'pure',\n",
       " 'hands',\n",
       " 'former',\n",
       " 'dancing',\n",
       " 'list',\n",
       " 'dream',\n",
       " 'mentioned',\n",
       " 'value',\n",
       " 'forced',\n",
       " 'portrayed',\n",
       " 'third',\n",
       " 'background',\n",
       " 'joke',\n",
       " 'villain',\n",
       " 'break',\n",
       " 'keeps',\n",
       " 'casting',\n",
       " 'male',\n",
       " 'unique',\n",
       " 'pay',\n",
       " 'escape',\n",
       " 'while',\n",
       " 'deserves',\n",
       " 'pace',\n",
       " 'reading',\n",
       " 'following',\n",
       " 'girlfriend',\n",
       " 'she',\n",
       " 'wasted',\n",
       " 'missed',\n",
       " 'appear',\n",
       " 'front',\n",
       " 'plenty',\n",
       " 'create',\n",
       " 'from',\n",
       " 'nudity',\n",
       " 'trouble',\n",
       " 'writers',\n",
       " 'zombie',\n",
       " 'ask',\n",
       " 'hold',\n",
       " 'older',\n",
       " 'talented',\n",
       " 'apart',\n",
       " 'joe',\n",
       " 'waiting',\n",
       " 'ideas',\n",
       " 'produced',\n",
       " 'large',\n",
       " 'train',\n",
       " 'alien',\n",
       " 'inside',\n",
       " 'cute',\n",
       " 'band',\n",
       " 'previous',\n",
       " 'attempts',\n",
       " 'law',\n",
       " 'unlike',\n",
       " 'cover',\n",
       " 'expecting',\n",
       " 'clever',\n",
       " 'drug',\n",
       " 'pointless',\n",
       " 'remake',\n",
       " 'filled',\n",
       " 'german',\n",
       " 'popular',\n",
       " 'interested',\n",
       " 'portrayal',\n",
       " 'married',\n",
       " 'moves',\n",
       " 'neither',\n",
       " 'twist',\n",
       " 'spirit',\n",
       " 'hardly',\n",
       " 'fit',\n",
       " 'spent',\n",
       " 'alive',\n",
       " 'company',\n",
       " 'ended',\n",
       " 'laughing',\n",
       " 'agree',\n",
       " 'public',\n",
       " 'tension',\n",
       " 'cold',\n",
       " 'language',\n",
       " 'changed',\n",
       " 'present',\n",
       " 'recently',\n",
       " 'when',\n",
       " 'sees',\n",
       " 'manages',\n",
       " 'co',\n",
       " 'brain',\n",
       " 'store',\n",
       " 'fantasy',\n",
       " 'hair',\n",
       " 'honest',\n",
       " 'comment',\n",
       " 'spoilers',\n",
       " 'fighting',\n",
       " 'tough',\n",
       " 'flat',\n",
       " 'office',\n",
       " 'convincing',\n",
       " 'considering',\n",
       " 'itself',\n",
       " 'fear',\n",
       " 'match',\n",
       " 'slightly',\n",
       " 'basic',\n",
       " 'copy',\n",
       " 'through',\n",
       " 'wrote',\n",
       " 'runs',\n",
       " 'la',\n",
       " 'science',\n",
       " 'values',\n",
       " 'glad',\n",
       " ...]"
      ]
     },
     "execution_count": 72,
     "metadata": {},
     "output_type": "execute_result"
    }
   ],
   "source": [
    "model.wv.index_to_key"
   ]
  },
  {
   "cell_type": "code",
   "execution_count": 73,
   "id": "b4254b8e",
   "metadata": {},
   "outputs": [],
   "source": [
    "def document_vector(doc):\n",
    "    doc=[word for word in doc.split() if word in model.wv.index_to_key]\n",
    "    return np.mean(model.wv[doc],axis=0)"
   ]
  },
  {
   "cell_type": "code",
   "execution_count": 75,
   "id": "1fe91fef",
   "metadata": {},
   "outputs": [
    {
     "data": {
      "text/plain": [
       "array([-0.19173099,  0.4940438 ,  0.21294843,  0.23143268, -0.06896431,\n",
       "       -0.6029096 ,  0.2165258 ,  0.9562977 , -0.37557063, -0.21290839,\n",
       "       -0.34684774, -0.4645735 ,  0.02469176,  0.04578961,  0.23125124,\n",
       "       -0.1347766 , -0.01842628, -0.35009158, -0.06574205, -0.59925616,\n",
       "        0.04810218,  0.24728139,  0.03929114, -0.30897215, -0.36120507,\n",
       "        0.00821723, -0.31058878,  0.01748754, -0.32263467,  0.03489245,\n",
       "        0.3853883 ,  0.01041097,  0.12790853, -0.26578525, -0.15327884,\n",
       "        0.4782698 ,  0.09809536, -0.43128535, -0.22648203, -0.7405604 ,\n",
       "        0.12291776, -0.24752752,  0.06336454, -0.07942729,  0.5068192 ,\n",
       "       -0.15180773, -0.1973463 ,  0.02298698,  0.07478585,  0.30182222,\n",
       "        0.04502733, -0.3442566 , -0.37062615, -0.14654976, -0.1605349 ,\n",
       "        0.22699936,  0.21145181,  0.09343546, -0.20572074,  0.07386091,\n",
       "        0.10658041,  0.09985324,  0.03218361, -0.02783588, -0.45866784,\n",
       "        0.26388177,  0.02893409,  0.16987757, -0.3878987 ,  0.27113634,\n",
       "       -0.2969008 ,  0.05559193,  0.6215202 , -0.03544015,  0.32972813,\n",
       "        0.13075681,  0.03496397, -0.08123755, -0.5228429 ,  0.16080534,\n",
       "       -0.36667657,  0.07539423, -0.37456453,  0.42773384, -0.10203485,\n",
       "       -0.1520946 , -0.08243237,  0.27789935,  0.2936798 ,  0.0339327 ,\n",
       "        0.25816795,  0.22244793,  0.03619379,  0.12120581,  0.67450756,\n",
       "        0.27910823,  0.18306457, -0.2130371 , -0.05582349, -0.1352504 ],\n",
       "      dtype=float32)"
      ]
     },
     "execution_count": 75,
     "metadata": {},
     "output_type": "execute_result"
    }
   ],
   "source": [
    "document_vector(df['review'][0])"
   ]
  },
  {
   "cell_type": "code",
   "execution_count": 78,
   "id": "fce3ab5a",
   "metadata": {},
   "outputs": [],
   "source": [
    "from tqdm import tqdm"
   ]
  },
  {
   "cell_type": "code",
   "execution_count": 81,
   "id": "4842cdbb",
   "metadata": {},
   "outputs": [
    {
     "name": "stderr",
     "output_type": "stream",
     "text": [
      "100%|██████████████████████████████████████████████████████████████████████████████| 9983/9983 [04:27<00:00, 37.39it/s]\n"
     ]
    }
   ],
   "source": [
    "x=[]\n",
    "for doc in tqdm(df['review'].values):\n",
    "    x.append(document_vector(doc))"
   ]
  },
  {
   "cell_type": "code",
   "execution_count": 82,
   "id": "323c8416",
   "metadata": {},
   "outputs": [],
   "source": [
    "x=np.array(x)"
   ]
  },
  {
   "cell_type": "code",
   "execution_count": 84,
   "id": "d8895ff2",
   "metadata": {},
   "outputs": [
    {
     "data": {
      "text/plain": [
       "array([-0.06298516,  0.44943744,  0.17173512, -0.03955271, -0.00249747,\n",
       "       -0.5236607 ,  0.0119345 ,  0.71170586, -0.30078587, -0.17336884,\n",
       "       -0.5255418 , -0.37809557, -0.13869001,  0.1138113 ,  0.23155226,\n",
       "       -0.11279979,  0.17417397, -0.6390312 , -0.03708722, -0.95385706,\n",
       "        0.2958702 ,  0.34376985,  0.2953905 ,  0.00641858, -0.00413718,\n",
       "        0.22537704, -0.20856456, -0.25085863, -0.4248189 ,  0.043613  ,\n",
       "        0.65195966,  0.06302954,  0.24579774, -0.3605282 , -0.06494183,\n",
       "        0.55755687, -0.01789499, -0.26434958, -0.4558042 , -0.7329766 ,\n",
       "        0.19530575, -0.6176329 , -0.28318933,  0.06748229,  0.3878252 ,\n",
       "       -0.3110903 , -0.36854607, -0.02314083,  0.18830185,  0.33863208,\n",
       "        0.18669024, -0.37492457, -0.45857066,  0.04515834, -0.23124218,\n",
       "        0.06880786,  0.12056866, -0.29910368, -0.52594364,  0.00385002,\n",
       "       -0.1292602 ,  0.03999748, -0.21653764,  0.11436362, -0.47152022,\n",
       "        0.5240532 , -0.13485667,  0.23146509, -0.30168188,  0.3486802 ,\n",
       "       -0.00564068,  0.2939001 ,  0.32365498, -0.09921115,  0.5569503 ,\n",
       "        0.32128203,  0.24747486, -0.04823365, -0.07709622, -0.06169448,\n",
       "       -0.35226607, -0.284618  , -0.22330806,  0.4158867 , -0.14607614,\n",
       "        0.00682073, -0.06693622,  0.4587086 ,  0.47578782, -0.00664926,\n",
       "        0.44617364,  0.31861642,  0.33096284, -0.03876065,  0.6563165 ,\n",
       "        0.41931933,  0.5130197 , -0.22834162, -0.14765956,  0.06961391],\n",
       "      dtype=float32)"
      ]
     },
     "execution_count": 84,
     "metadata": {},
     "output_type": "execute_result"
    }
   ],
   "source": [
    "x[1]"
   ]
  },
  {
   "cell_type": "code",
   "execution_count": 86,
   "id": "71b59edf",
   "metadata": {},
   "outputs": [
    {
     "data": {
      "text/plain": [
       "(9983, 100)"
      ]
     },
     "execution_count": 86,
     "metadata": {},
     "output_type": "execute_result"
    }
   ],
   "source": [
    "x.shape"
   ]
  },
  {
   "cell_type": "code",
   "execution_count": 88,
   "id": "660eb290",
   "metadata": {},
   "outputs": [
    {
     "data": {
      "text/plain": [
       "array([1, 1, 0, ..., 0, 0, 1])"
      ]
     },
     "execution_count": 88,
     "metadata": {},
     "output_type": "execute_result"
    }
   ],
   "source": [
    "Y_train"
   ]
  },
  {
   "cell_type": "code",
   "execution_count": 93,
   "id": "5d958a2d",
   "metadata": {},
   "outputs": [
    {
     "data": {
      "text/plain": [
       "array([1, 1, 1, ..., 0, 0, 1])"
      ]
     },
     "execution_count": 93,
     "metadata": {},
     "output_type": "execute_result"
    }
   ],
   "source": [
    "y"
   ]
  },
  {
   "cell_type": "code",
   "execution_count": 97,
   "id": "c82ef37e",
   "metadata": {},
   "outputs": [],
   "source": [
    "X_train,X_test,Y_train,Y_test=train_test_split(x,y,test_size=0.2,random_state=1)"
   ]
  },
  {
   "cell_type": "code",
   "execution_count": 98,
   "id": "9ef355f4",
   "metadata": {},
   "outputs": [
    {
     "data": {
      "text/plain": [
       "array([[-0.21058607,  0.3794891 ,  0.27770275, ..., -0.2795418 ,\n",
       "        -0.0252429 , -0.13976726],\n",
       "       [-0.1106414 ,  0.45594308,  0.16613062, ..., -0.21464202,\n",
       "        -0.1498065 , -0.02556781],\n",
       "       [-0.03639546,  0.44782797,  0.08881018, ..., -0.09918367,\n",
       "         0.01277907, -0.27658156],\n",
       "       ...,\n",
       "       [-0.14339721,  0.43835133,  0.16058466, ..., -0.24503309,\n",
       "        -0.1091909 , -0.11261042],\n",
       "       [-0.23092976,  0.3291635 ,  0.19164167, ..., -0.20136715,\n",
       "        -0.00211514, -0.1637307 ],\n",
       "       [ 0.0085674 ,  0.57311416,  0.16805638, ...,  0.01912345,\n",
       "        -0.0631455 , -0.39029938]], dtype=float32)"
      ]
     },
     "execution_count": 98,
     "metadata": {},
     "output_type": "execute_result"
    }
   ],
   "source": [
    "X_test"
   ]
  },
  {
   "cell_type": "code",
   "execution_count": 99,
   "id": "36dc2543",
   "metadata": {},
   "outputs": [
    {
     "data": {
      "text/html": [
       "<style>#sk-container-id-5 {color: black;background-color: white;}#sk-container-id-5 pre{padding: 0;}#sk-container-id-5 div.sk-toggleable {background-color: white;}#sk-container-id-5 label.sk-toggleable__label {cursor: pointer;display: block;width: 100%;margin-bottom: 0;padding: 0.3em;box-sizing: border-box;text-align: center;}#sk-container-id-5 label.sk-toggleable__label-arrow:before {content: \"▸\";float: left;margin-right: 0.25em;color: #696969;}#sk-container-id-5 label.sk-toggleable__label-arrow:hover:before {color: black;}#sk-container-id-5 div.sk-estimator:hover label.sk-toggleable__label-arrow:before {color: black;}#sk-container-id-5 div.sk-toggleable__content {max-height: 0;max-width: 0;overflow: hidden;text-align: left;background-color: #f0f8ff;}#sk-container-id-5 div.sk-toggleable__content pre {margin: 0.2em;color: black;border-radius: 0.25em;background-color: #f0f8ff;}#sk-container-id-5 input.sk-toggleable__control:checked~div.sk-toggleable__content {max-height: 200px;max-width: 100%;overflow: auto;}#sk-container-id-5 input.sk-toggleable__control:checked~label.sk-toggleable__label-arrow:before {content: \"▾\";}#sk-container-id-5 div.sk-estimator input.sk-toggleable__control:checked~label.sk-toggleable__label {background-color: #d4ebff;}#sk-container-id-5 div.sk-label input.sk-toggleable__control:checked~label.sk-toggleable__label {background-color: #d4ebff;}#sk-container-id-5 input.sk-hidden--visually {border: 0;clip: rect(1px 1px 1px 1px);clip: rect(1px, 1px, 1px, 1px);height: 1px;margin: -1px;overflow: hidden;padding: 0;position: absolute;width: 1px;}#sk-container-id-5 div.sk-estimator {font-family: monospace;background-color: #f0f8ff;border: 1px dotted black;border-radius: 0.25em;box-sizing: border-box;margin-bottom: 0.5em;}#sk-container-id-5 div.sk-estimator:hover {background-color: #d4ebff;}#sk-container-id-5 div.sk-parallel-item::after {content: \"\";width: 100%;border-bottom: 1px solid gray;flex-grow: 1;}#sk-container-id-5 div.sk-label:hover label.sk-toggleable__label {background-color: #d4ebff;}#sk-container-id-5 div.sk-serial::before {content: \"\";position: absolute;border-left: 1px solid gray;box-sizing: border-box;top: 0;bottom: 0;left: 50%;z-index: 0;}#sk-container-id-5 div.sk-serial {display: flex;flex-direction: column;align-items: center;background-color: white;padding-right: 0.2em;padding-left: 0.2em;position: relative;}#sk-container-id-5 div.sk-item {position: relative;z-index: 1;}#sk-container-id-5 div.sk-parallel {display: flex;align-items: stretch;justify-content: center;background-color: white;position: relative;}#sk-container-id-5 div.sk-item::before, #sk-container-id-5 div.sk-parallel-item::before {content: \"\";position: absolute;border-left: 1px solid gray;box-sizing: border-box;top: 0;bottom: 0;left: 50%;z-index: -1;}#sk-container-id-5 div.sk-parallel-item {display: flex;flex-direction: column;z-index: 1;position: relative;background-color: white;}#sk-container-id-5 div.sk-parallel-item:first-child::after {align-self: flex-end;width: 50%;}#sk-container-id-5 div.sk-parallel-item:last-child::after {align-self: flex-start;width: 50%;}#sk-container-id-5 div.sk-parallel-item:only-child::after {width: 0;}#sk-container-id-5 div.sk-dashed-wrapped {border: 1px dashed gray;margin: 0 0.4em 0.5em 0.4em;box-sizing: border-box;padding-bottom: 0.4em;background-color: white;}#sk-container-id-5 div.sk-label label {font-family: monospace;font-weight: bold;display: inline-block;line-height: 1.2em;}#sk-container-id-5 div.sk-label-container {text-align: center;}#sk-container-id-5 div.sk-container {/* jupyter's `normalize.less` sets `[hidden] { display: none; }` but bootstrap.min.css set `[hidden] { display: none !important; }` so we also need the `!important` here to be able to override the default hidden behavior on the sphinx rendered scikit-learn.org. See: https://github.com/scikit-learn/scikit-learn/issues/21755 */display: inline-block !important;position: relative;}#sk-container-id-5 div.sk-text-repr-fallback {display: none;}</style><div id=\"sk-container-id-5\" class=\"sk-top-container\"><div class=\"sk-text-repr-fallback\"><pre>RandomForestClassifier(n_estimators=200)</pre><b>In a Jupyter environment, please rerun this cell to show the HTML representation or trust the notebook. <br />On GitHub, the HTML representation is unable to render, please try loading this page with nbviewer.org.</b></div><div class=\"sk-container\" hidden><div class=\"sk-item\"><div class=\"sk-estimator sk-toggleable\"><input class=\"sk-toggleable__control sk-hidden--visually\" id=\"sk-estimator-id-5\" type=\"checkbox\" checked><label for=\"sk-estimator-id-5\" class=\"sk-toggleable__label sk-toggleable__label-arrow\">RandomForestClassifier</label><div class=\"sk-toggleable__content\"><pre>RandomForestClassifier(n_estimators=200)</pre></div></div></div></div></div>"
      ],
      "text/plain": [
       "RandomForestClassifier(n_estimators=200)"
      ]
     },
     "execution_count": 99,
     "metadata": {},
     "output_type": "execute_result"
    }
   ],
   "source": [
    "rfc.fit(X_train,Y_train)"
   ]
  },
  {
   "cell_type": "code",
   "execution_count": 100,
   "id": "40174376",
   "metadata": {},
   "outputs": [],
   "source": [
    "y_pred=rfc.predict(X_test)"
   ]
  },
  {
   "cell_type": "code",
   "execution_count": 101,
   "id": "6974fb46",
   "metadata": {},
   "outputs": [
    {
     "data": {
      "text/plain": [
       "0.7736604907361042"
      ]
     },
     "execution_count": 101,
     "metadata": {},
     "output_type": "execute_result"
    }
   ],
   "source": [
    "accuracy_score(Y_test,y_pred)"
   ]
  },
  {
   "cell_type": "code",
   "execution_count": null,
   "id": "ce206422",
   "metadata": {},
   "outputs": [],
   "source": []
  }
 ],
 "metadata": {
  "kernelspec": {
   "display_name": "Python 3 (ipykernel)",
   "language": "python",
   "name": "python3"
  },
  "language_info": {
   "codemirror_mode": {
    "name": "ipython",
    "version": 3
   },
   "file_extension": ".py",
   "mimetype": "text/x-python",
   "name": "python",
   "nbconvert_exporter": "python",
   "pygments_lexer": "ipython3",
   "version": "3.10.6"
  }
 },
 "nbformat": 4,
 "nbformat_minor": 5
}
